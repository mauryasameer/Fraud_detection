{
 "cells": [
  {
   "cell_type": "markdown",
   "id": "da29d40a",
   "metadata": {},
   "source": [
    "## Fraud Detection\n",
    "### By going throught the data I a have created certain definition of fraudulent users\n",
    "<ol>The users who have no records of calls or messages but have record of serach</ol>\n",
    "<ol>The users who is Disproportionation ration between searches and call+messages</ol>"
   ]
  },
  {
   "cell_type": "code",
   "execution_count": 79,
   "id": "a6eb7ca0",
   "metadata": {},
   "outputs": [],
   "source": [
    "import pandas as pd\n",
    "from tqdm import tqdm as tq\n",
    "from sklearn.preprocessing import MinMaxScaler\n",
    "from swifter import swifter"
   ]
  },
  {
   "cell_type": "code",
   "execution_count": 80,
   "id": "0fba087a",
   "metadata": {},
   "outputs": [],
   "source": [
    "import sklearn\n",
    "import swifter as sw\n",
    "import tqdm"
   ]
  },
  {
   "cell_type": "code",
   "execution_count": 82,
   "id": "8690febd",
   "metadata": {},
   "outputs": [
    {
     "name": "stdout",
     "output_type": "stream",
     "text": [
      "\n",
      "     version of pandas: 1.2.4\n",
      "     version of tqdm: 4.59.0\n",
      "     version of sklearn: 0.24.1\n",
      "     version of swifter: 1.0.9\n",
      "\n"
     ]
    }
   ],
   "source": [
    "print(f\"\"\"\n",
    "     version of pandas: {pd.__version__}\n",
    "     version of tqdm: {tqdm.__version__}\n",
    "     version of sklearn: {sklearn.__version__}\n",
    "     version of swifter: {sw.__version__}\n",
    "\"\"\")"
   ]
  },
  {
   "cell_type": "code",
   "execution_count": 5,
   "id": "6527d65f",
   "metadata": {},
   "outputs": [],
   "source": [
    "data_message=pd.read_csv('message_data.csv', sep='\\t')\n",
    "data_call = pd.read_csv('call_data.csv', sep='\\t')\n",
    "data_search = pd.read_csv('search_data.csv', sep='\\t')\n",
    "data_signup = pd.read_csv('signup_data.csv', sep='\\t')"
   ]
  },
  {
   "cell_type": "code",
   "execution_count": 6,
   "id": "b25f2b13",
   "metadata": {},
   "outputs": [
    {
     "data": {
      "text/html": [
       "<div>\n",
       "<style scoped>\n",
       "    .dataframe tbody tr th:only-of-type {\n",
       "        vertical-align: middle;\n",
       "    }\n",
       "\n",
       "    .dataframe tbody tr th {\n",
       "        vertical-align: top;\n",
       "    }\n",
       "\n",
       "    .dataframe thead th {\n",
       "        text-align: right;\n",
       "    }\n",
       "</style>\n",
       "<table border=\"1\" class=\"dataframe\">\n",
       "  <thead>\n",
       "    <tr style=\"text-align: right;\">\n",
       "      <th></th>\n",
       "      <th>user_id</th>\n",
       "      <th>message_ts</th>\n",
       "    </tr>\n",
       "  </thead>\n",
       "  <tbody>\n",
       "    <tr>\n",
       "      <th>0</th>\n",
       "      <td>10024239</td>\n",
       "      <td>1553986083696</td>\n",
       "    </tr>\n",
       "    <tr>\n",
       "      <th>1</th>\n",
       "      <td>10021388</td>\n",
       "      <td>1553197787973</td>\n",
       "    </tr>\n",
       "    <tr>\n",
       "      <th>2</th>\n",
       "      <td>10022286</td>\n",
       "      <td>1552931128388</td>\n",
       "    </tr>\n",
       "    <tr>\n",
       "      <th>3</th>\n",
       "      <td>10023459</td>\n",
       "      <td>1553519190682</td>\n",
       "    </tr>\n",
       "    <tr>\n",
       "      <th>4</th>\n",
       "      <td>10023112</td>\n",
       "      <td>1553967251566</td>\n",
       "    </tr>\n",
       "    <tr>\n",
       "      <th>...</th>\n",
       "      <td>...</td>\n",
       "      <td>...</td>\n",
       "    </tr>\n",
       "    <tr>\n",
       "      <th>105780</th>\n",
       "      <td>10020758</td>\n",
       "      <td>1552268924876</td>\n",
       "    </tr>\n",
       "    <tr>\n",
       "      <th>105781</th>\n",
       "      <td>10003523</td>\n",
       "      <td>1554156156116</td>\n",
       "    </tr>\n",
       "    <tr>\n",
       "      <th>105782</th>\n",
       "      <td>10013994</td>\n",
       "      <td>1553276090999</td>\n",
       "    </tr>\n",
       "    <tr>\n",
       "      <th>105783</th>\n",
       "      <td>10025855</td>\n",
       "      <td>1551625310618</td>\n",
       "    </tr>\n",
       "    <tr>\n",
       "      <th>105784</th>\n",
       "      <td>10025800</td>\n",
       "      <td>1553790895498</td>\n",
       "    </tr>\n",
       "  </tbody>\n",
       "</table>\n",
       "<p>105785 rows × 2 columns</p>\n",
       "</div>"
      ],
      "text/plain": [
       "         user_id     message_ts\n",
       "0       10024239  1553986083696\n",
       "1       10021388  1553197787973\n",
       "2       10022286  1552931128388\n",
       "3       10023459  1553519190682\n",
       "4       10023112  1553967251566\n",
       "...          ...            ...\n",
       "105780  10020758  1552268924876\n",
       "105781  10003523  1554156156116\n",
       "105782  10013994  1553276090999\n",
       "105783  10025855  1551625310618\n",
       "105784  10025800  1553790895498\n",
       "\n",
       "[105785 rows x 2 columns]"
      ]
     },
     "metadata": {},
     "output_type": "display_data"
    },
    {
     "data": {
      "text/html": [
       "<div>\n",
       "<style scoped>\n",
       "    .dataframe tbody tr th:only-of-type {\n",
       "        vertical-align: middle;\n",
       "    }\n",
       "\n",
       "    .dataframe tbody tr th {\n",
       "        vertical-align: top;\n",
       "    }\n",
       "\n",
       "    .dataframe thead th {\n",
       "        text-align: right;\n",
       "    }\n",
       "</style>\n",
       "<table border=\"1\" class=\"dataframe\">\n",
       "  <thead>\n",
       "    <tr style=\"text-align: right;\">\n",
       "      <th></th>\n",
       "      <th>user_id</th>\n",
       "      <th>call_ts</th>\n",
       "    </tr>\n",
       "  </thead>\n",
       "  <tbody>\n",
       "    <tr>\n",
       "      <th>0</th>\n",
       "      <td>10016547</td>\n",
       "      <td>1554294993128</td>\n",
       "    </tr>\n",
       "    <tr>\n",
       "      <th>1</th>\n",
       "      <td>10022130</td>\n",
       "      <td>1553790875089</td>\n",
       "    </tr>\n",
       "    <tr>\n",
       "      <th>2</th>\n",
       "      <td>10020436</td>\n",
       "      <td>1553083077679</td>\n",
       "    </tr>\n",
       "    <tr>\n",
       "      <th>3</th>\n",
       "      <td>10004031</td>\n",
       "      <td>1553984897628</td>\n",
       "    </tr>\n",
       "    <tr>\n",
       "      <th>4</th>\n",
       "      <td>10001845</td>\n",
       "      <td>1553445030753</td>\n",
       "    </tr>\n",
       "    <tr>\n",
       "      <th>...</th>\n",
       "      <td>...</td>\n",
       "      <td>...</td>\n",
       "    </tr>\n",
       "    <tr>\n",
       "      <th>1223790</th>\n",
       "      <td>10019643</td>\n",
       "      <td>1553895702139</td>\n",
       "    </tr>\n",
       "    <tr>\n",
       "      <th>1223791</th>\n",
       "      <td>10022738</td>\n",
       "      <td>1552072391718</td>\n",
       "    </tr>\n",
       "    <tr>\n",
       "      <th>1223792</th>\n",
       "      <td>10018307</td>\n",
       "      <td>1554055713419</td>\n",
       "    </tr>\n",
       "    <tr>\n",
       "      <th>1223793</th>\n",
       "      <td>10005060</td>\n",
       "      <td>1553458349137</td>\n",
       "    </tr>\n",
       "    <tr>\n",
       "      <th>1223794</th>\n",
       "      <td>10002237</td>\n",
       "      <td>1553606491786</td>\n",
       "    </tr>\n",
       "  </tbody>\n",
       "</table>\n",
       "<p>1223795 rows × 2 columns</p>\n",
       "</div>"
      ],
      "text/plain": [
       "          user_id        call_ts\n",
       "0        10016547  1554294993128\n",
       "1        10022130  1553790875089\n",
       "2        10020436  1553083077679\n",
       "3        10004031  1553984897628\n",
       "4        10001845  1553445030753\n",
       "...           ...            ...\n",
       "1223790  10019643  1553895702139\n",
       "1223791  10022738  1552072391718\n",
       "1223792  10018307  1554055713419\n",
       "1223793  10005060  1553458349137\n",
       "1223794  10002237  1553606491786\n",
       "\n",
       "[1223795 rows x 2 columns]"
      ]
     },
     "metadata": {},
     "output_type": "display_data"
    },
    {
     "data": {
      "text/html": [
       "<div>\n",
       "<style scoped>\n",
       "    .dataframe tbody tr th:only-of-type {\n",
       "        vertical-align: middle;\n",
       "    }\n",
       "\n",
       "    .dataframe tbody tr th {\n",
       "        vertical-align: top;\n",
       "    }\n",
       "\n",
       "    .dataframe thead th {\n",
       "        text-align: right;\n",
       "    }\n",
       "</style>\n",
       "<table border=\"1\" class=\"dataframe\">\n",
       "  <thead>\n",
       "    <tr style=\"text-align: right;\">\n",
       "      <th></th>\n",
       "      <th>user_id</th>\n",
       "      <th>search_ts</th>\n",
       "    </tr>\n",
       "  </thead>\n",
       "  <tbody>\n",
       "    <tr>\n",
       "      <th>0</th>\n",
       "      <td>10001110</td>\n",
       "      <td>1554188089059</td>\n",
       "    </tr>\n",
       "    <tr>\n",
       "      <th>1</th>\n",
       "      <td>10001010</td>\n",
       "      <td>1553159392120</td>\n",
       "    </tr>\n",
       "    <tr>\n",
       "      <th>2</th>\n",
       "      <td>10018492</td>\n",
       "      <td>1554296508598</td>\n",
       "    </tr>\n",
       "    <tr>\n",
       "      <th>3</th>\n",
       "      <td>10008817</td>\n",
       "      <td>1553186210012</td>\n",
       "    </tr>\n",
       "    <tr>\n",
       "      <th>4</th>\n",
       "      <td>10015005</td>\n",
       "      <td>1554189287541</td>\n",
       "    </tr>\n",
       "    <tr>\n",
       "      <th>...</th>\n",
       "      <td>...</td>\n",
       "      <td>...</td>\n",
       "    </tr>\n",
       "    <tr>\n",
       "      <th>867126</th>\n",
       "      <td>10016290</td>\n",
       "      <td>1551969062049</td>\n",
       "    </tr>\n",
       "    <tr>\n",
       "      <th>867127</th>\n",
       "      <td>10025816</td>\n",
       "      <td>1553503775585</td>\n",
       "    </tr>\n",
       "    <tr>\n",
       "      <th>867128</th>\n",
       "      <td>10005163</td>\n",
       "      <td>1552502791392</td>\n",
       "    </tr>\n",
       "    <tr>\n",
       "      <th>867129</th>\n",
       "      <td>10016659</td>\n",
       "      <td>1554216761881</td>\n",
       "    </tr>\n",
       "    <tr>\n",
       "      <th>867130</th>\n",
       "      <td>10019680</td>\n",
       "      <td>1552469070178</td>\n",
       "    </tr>\n",
       "  </tbody>\n",
       "</table>\n",
       "<p>867131 rows × 2 columns</p>\n",
       "</div>"
      ],
      "text/plain": [
       "         user_id      search_ts\n",
       "0       10001110  1554188089059\n",
       "1       10001010  1553159392120\n",
       "2       10018492  1554296508598\n",
       "3       10008817  1553186210012\n",
       "4       10015005  1554189287541\n",
       "...          ...            ...\n",
       "867126  10016290  1551969062049\n",
       "867127  10025816  1553503775585\n",
       "867128  10005163  1552502791392\n",
       "867129  10016659  1554216761881\n",
       "867130  10019680  1552469070178\n",
       "\n",
       "[867131 rows x 2 columns]"
      ]
     },
     "metadata": {},
     "output_type": "display_data"
    },
    {
     "data": {
      "text/html": [
       "<div>\n",
       "<style scoped>\n",
       "    .dataframe tbody tr th:only-of-type {\n",
       "        vertical-align: middle;\n",
       "    }\n",
       "\n",
       "    .dataframe tbody tr th {\n",
       "        vertical-align: top;\n",
       "    }\n",
       "\n",
       "    .dataframe thead th {\n",
       "        text-align: right;\n",
       "    }\n",
       "</style>\n",
       "<table border=\"1\" class=\"dataframe\">\n",
       "  <thead>\n",
       "    <tr style=\"text-align: right;\">\n",
       "      <th></th>\n",
       "      <th>user_id</th>\n",
       "      <th>country_code</th>\n",
       "      <th>signup_ts</th>\n",
       "    </tr>\n",
       "  </thead>\n",
       "  <tbody>\n",
       "    <tr>\n",
       "      <th>0</th>\n",
       "      <td>10000000</td>\n",
       "      <td>IT</td>\n",
       "      <td>1552867200000</td>\n",
       "    </tr>\n",
       "    <tr>\n",
       "      <th>1</th>\n",
       "      <td>10000001</td>\n",
       "      <td>IT</td>\n",
       "      <td>1551571200000</td>\n",
       "    </tr>\n",
       "    <tr>\n",
       "      <th>2</th>\n",
       "      <td>10000002</td>\n",
       "      <td>SE</td>\n",
       "      <td>1554163200000</td>\n",
       "    </tr>\n",
       "    <tr>\n",
       "      <th>3</th>\n",
       "      <td>10000003</td>\n",
       "      <td>IT</td>\n",
       "      <td>1553644800000</td>\n",
       "    </tr>\n",
       "    <tr>\n",
       "      <th>4</th>\n",
       "      <td>10000004</td>\n",
       "      <td>IT</td>\n",
       "      <td>1554076800000</td>\n",
       "    </tr>\n",
       "    <tr>\n",
       "      <th>...</th>\n",
       "      <td>...</td>\n",
       "      <td>...</td>\n",
       "      <td>...</td>\n",
       "    </tr>\n",
       "    <tr>\n",
       "      <th>25995</th>\n",
       "      <td>10025995</td>\n",
       "      <td>SE</td>\n",
       "      <td>1554076800000</td>\n",
       "    </tr>\n",
       "    <tr>\n",
       "      <th>25996</th>\n",
       "      <td>10025996</td>\n",
       "      <td>SE</td>\n",
       "      <td>1554163200000</td>\n",
       "    </tr>\n",
       "    <tr>\n",
       "      <th>25997</th>\n",
       "      <td>10025997</td>\n",
       "      <td>IT</td>\n",
       "      <td>1553644800000</td>\n",
       "    </tr>\n",
       "    <tr>\n",
       "      <th>25998</th>\n",
       "      <td>10025998</td>\n",
       "      <td>IT</td>\n",
       "      <td>1553472000000</td>\n",
       "    </tr>\n",
       "    <tr>\n",
       "      <th>25999</th>\n",
       "      <td>10025999</td>\n",
       "      <td>IT</td>\n",
       "      <td>1552003200000</td>\n",
       "    </tr>\n",
       "  </tbody>\n",
       "</table>\n",
       "<p>26000 rows × 3 columns</p>\n",
       "</div>"
      ],
      "text/plain": [
       "        user_id country_code      signup_ts\n",
       "0      10000000           IT  1552867200000\n",
       "1      10000001           IT  1551571200000\n",
       "2      10000002           SE  1554163200000\n",
       "3      10000003           IT  1553644800000\n",
       "4      10000004           IT  1554076800000\n",
       "...         ...          ...            ...\n",
       "25995  10025995           SE  1554076800000\n",
       "25996  10025996           SE  1554163200000\n",
       "25997  10025997           IT  1553644800000\n",
       "25998  10025998           IT  1553472000000\n",
       "25999  10025999           IT  1552003200000\n",
       "\n",
       "[26000 rows x 3 columns]"
      ]
     },
     "metadata": {},
     "output_type": "display_data"
    }
   ],
   "source": [
    "display(data_message)\n",
    "display(data_call)\n",
    "display(data_search)\n",
    "display(data_signup)"
   ]
  },
  {
   "cell_type": "markdown",
   "id": "02d6b4f1",
   "metadata": {},
   "source": [
    "### First step will be to convert this data into more readable format "
   ]
  },
  {
   "cell_type": "code",
   "execution_count": 7,
   "id": "3a475779",
   "metadata": {},
   "outputs": [],
   "source": [
    "convert_ms = lambda x: pd.to_datetime(x, unit='ms')"
   ]
  },
  {
   "cell_type": "code",
   "execution_count": 8,
   "id": "36e4ac31",
   "metadata": {},
   "outputs": [],
   "source": [
    "data_message['message_ts'] = data_message['message_ts'].swifter.apply(convert_ms)"
   ]
  },
  {
   "cell_type": "code",
   "execution_count": 9,
   "id": "83972507",
   "metadata": {},
   "outputs": [],
   "source": [
    "data_call['call_ts'] = data_call['call_ts'].swifter.apply(convert_ms)\n",
    "data_search['search_ts'] = data_search['search_ts'].swifter.apply(convert_ms)\n",
    "data_signup['signup_ts'] = data_signup['signup_ts'].swifter.apply(convert_ms)"
   ]
  },
  {
   "cell_type": "markdown",
   "id": "bdee2ee4",
   "metadata": {},
   "source": [
    "#### Let's see the country wise distribution"
   ]
  },
  {
   "cell_type": "code",
   "execution_count": 77,
   "id": "8ea8bbe3",
   "metadata": {},
   "outputs": [
    {
     "data": {
      "text/plain": [
       "Text(0.5, 1.0, 'Country Wise distribution')"
      ]
     },
     "execution_count": 77,
     "metadata": {},
     "output_type": "execute_result"
    },
    {
     "data": {
      "image/png": "[encoded data removed]",
      "text/plain": [
       "<Figure size 432x288 with 1 Axes>"
      ]
     },
     "metadata": {
      "needs_background": "light"
     },
     "output_type": "display_data"
    }
   ],
   "source": [
    "data_signup.country_code.value_counts().plot.bar().set_title('Country Wise distribution')"
   ]
  },
  {
   "cell_type": "code",
   "execution_count": 76,
   "id": "e56baa80-6a7a-4359-95f9-9eec8b827370",
   "metadata": {},
   "outputs": [
    {
     "data": {
      "text/plain": [
       "Text(0.5, 1.0, 'Country Code')"
      ]
     },
     "execution_count": 76,
     "metadata": {},
     "output_type": "execute_result"
    },
    {
     "data": {
      "image/png": "[encoded data removed]",
      "text/plain": [
       "<Figure size 432x288 with 1 Axes>"
      ]
     },
     "metadata": {},
     "output_type": "display_data"
    }
   ],
   "source": [
    "data_signup.country_code.value_counts().plot.pie().set_title('Country Code')"
   ]
  },
  {
   "cell_type": "markdown",
   "id": "fbe94f6c",
   "metadata": {},
   "source": [
    "### Let's perform some sanity checks and see that all of the id which have signed up are present in the message, search and call tables"
   ]
  },
  {
   "cell_type": "code",
   "execution_count": 12,
   "id": "6787c10c-27e5-4fa3-ae3f-1cee4798a7ef",
   "metadata": {},
   "outputs": [
    {
     "data": {
      "text/plain": [
       "0"
      ]
     },
     "execution_count": 12,
     "metadata": {},
     "output_type": "execute_result"
    }
   ],
   "source": [
    "data_signup.duplicated(subset=['user_id']).sum()"
   ]
  },
  {
   "cell_type": "code",
   "execution_count": 13,
   "id": "e4f79299",
   "metadata": {},
   "outputs": [],
   "source": [
    "master_id_set = set(data_signup.user_id)"
   ]
  },
  {
   "cell_type": "code",
   "execution_count": 14,
   "id": "af844cc4",
   "metadata": {},
   "outputs": [
    {
     "data": {
      "text/plain": [
       "True"
      ]
     },
     "execution_count": 14,
     "metadata": {},
     "output_type": "execute_result"
    }
   ],
   "source": [
    "set(data_call.user_id).issubset(master_id_set)"
   ]
  },
  {
   "cell_type": "code",
   "execution_count": 15,
   "id": "9fa30b30",
   "metadata": {},
   "outputs": [
    {
     "data": {
      "text/plain": [
       "True"
      ]
     },
     "execution_count": 15,
     "metadata": {},
     "output_type": "execute_result"
    }
   ],
   "source": [
    "set(data_message.user_id).issubset(master_id_set)"
   ]
  },
  {
   "cell_type": "code",
   "execution_count": 16,
   "id": "fa537fd5",
   "metadata": {},
   "outputs": [
    {
     "data": {
      "text/plain": [
       "True"
      ]
     },
     "execution_count": 16,
     "metadata": {},
     "output_type": "execute_result"
    }
   ],
   "source": [
    "set(data_search.user_id).issubset(master_id_set)"
   ]
  },
  {
   "cell_type": "code",
   "execution_count": 17,
   "id": "2cbee985",
   "metadata": {},
   "outputs": [
    {
     "data": {
      "text/plain": [
       "True"
      ]
     },
     "execution_count": 17,
     "metadata": {},
     "output_type": "execute_result"
    }
   ],
   "source": [
    "master_id_set.issubset(set(data_search.user_id))"
   ]
  },
  {
   "cell_type": "markdown",
   "id": "a7d9cf5e",
   "metadata": {},
   "source": [
    "### we can now cleary see that the all of the id which are present in the signup dataset are present in all of the other dataset "
   ]
  },
  {
   "cell_type": "code",
   "execution_count": 18,
   "id": "743421b1",
   "metadata": {},
   "outputs": [],
   "source": [
    "messages_counts = data_message.user_id.value_counts()\n",
    "call_counts = data_call.user_id.value_counts()\n",
    "search_counts = data_search.user_id.value_counts()"
   ]
  },
  {
   "cell_type": "code",
   "execution_count": 193,
   "id": "ac5f7f0b",
   "metadata": {},
   "outputs": [
    {
     "name": "stderr",
     "output_type": "stream",
     "text": [
      "100%|██████████████████████████████████████████████████████████████████████████| 26000/26000 [1:32:15<00:00,  4.70it/s]\n"
     ]
    }
   ],
   "source": [
    "final_table = []\n",
    "for id in tq(master_id_set):\n",
    "    final_dict = {}\n",
    "    final_dict['id'] = id\n",
    "    final_dict['country'] = data_signup[data_signup.user_id==id]['country_code']\n",
    "    final_dict['signup_date'] = data_signup[data_signup.user_id==id]['signup_ts']\n",
    "    \n",
    "    if id in set(data_message.user_id):\n",
    "        final_dict['message_count'] = messages_counts[id]\n",
    "    else:\n",
    "        final_dict['message_count'] = 0\n",
    "    \n",
    "    if id in set(data_call.user_id):\n",
    "        final_dict['call_count'] = call_counts[id]\n",
    "    else:\n",
    "        final_dict['call_count'] = 0\n",
    "    \n",
    "    if id in set(data_search.user_id):\n",
    "        final_dict['search_count'] = search_counts[id]\n",
    "    else:\n",
    "        final_dict['search_count'] = 0\n",
    "    final_table.append(final_dict)\n",
    "    "
   ]
  },
  {
   "cell_type": "code",
   "execution_count": 194,
   "id": "a854133e",
   "metadata": {},
   "outputs": [],
   "source": [
    "Master = pd.DataFrame(final_table)"
   ]
  },
  {
   "cell_type": "markdown",
   "id": "043c579f",
   "metadata": {},
   "source": [
    "#### I  did small mistake in the data prepration so correcting it here "
   ]
  },
  {
   "cell_type": "code",
   "execution_count": 240,
   "id": "f186494b",
   "metadata": {},
   "outputs": [],
   "source": [
    "Master['country'] = Master['country'].apply(lambda x:x.values[0])"
   ]
  },
  {
   "cell_type": "code",
   "execution_count": 243,
   "id": "8c47debb",
   "metadata": {},
   "outputs": [],
   "source": [
    "Master['signup_date'] = Master['signup_date'].apply(lambda x:x.values[0])"
   ]
  },
  {
   "cell_type": "code",
   "execution_count": 244,
   "id": "af560e51",
   "metadata": {},
   "outputs": [
    {
     "data": {
      "text/html": [
       "<div>\n",
       "<style scoped>\n",
       "    .dataframe tbody tr th:only-of-type {\n",
       "        vertical-align: middle;\n",
       "    }\n",
       "\n",
       "    .dataframe tbody tr th {\n",
       "        vertical-align: top;\n",
       "    }\n",
       "\n",
       "    .dataframe thead th {\n",
       "        text-align: right;\n",
       "    }\n",
       "</style>\n",
       "<table border=\"1\" class=\"dataframe\">\n",
       "  <thead>\n",
       "    <tr style=\"text-align: right;\">\n",
       "      <th></th>\n",
       "      <th>id</th>\n",
       "      <th>country</th>\n",
       "      <th>signup_date</th>\n",
       "      <th>message_count</th>\n",
       "      <th>call_count</th>\n",
       "      <th>search_count</th>\n",
       "    </tr>\n",
       "  </thead>\n",
       "  <tbody>\n",
       "    <tr>\n",
       "      <th>0</th>\n",
       "      <td>10000000</td>\n",
       "      <td>IT</td>\n",
       "      <td>2019-03-18</td>\n",
       "      <td>1</td>\n",
       "      <td>36</td>\n",
       "      <td>16</td>\n",
       "    </tr>\n",
       "    <tr>\n",
       "      <th>1</th>\n",
       "      <td>10000001</td>\n",
       "      <td>IT</td>\n",
       "      <td>2019-03-03</td>\n",
       "      <td>0</td>\n",
       "      <td>64</td>\n",
       "      <td>20</td>\n",
       "    </tr>\n",
       "    <tr>\n",
       "      <th>2</th>\n",
       "      <td>10000002</td>\n",
       "      <td>SE</td>\n",
       "      <td>2019-04-02</td>\n",
       "      <td>2</td>\n",
       "      <td>5</td>\n",
       "      <td>17</td>\n",
       "    </tr>\n",
       "    <tr>\n",
       "      <th>3</th>\n",
       "      <td>10000003</td>\n",
       "      <td>IT</td>\n",
       "      <td>2019-03-27</td>\n",
       "      <td>0</td>\n",
       "      <td>60</td>\n",
       "      <td>38</td>\n",
       "    </tr>\n",
       "    <tr>\n",
       "      <th>4</th>\n",
       "      <td>10000004</td>\n",
       "      <td>IT</td>\n",
       "      <td>2019-04-01</td>\n",
       "      <td>0</td>\n",
       "      <td>24</td>\n",
       "      <td>37</td>\n",
       "    </tr>\n",
       "    <tr>\n",
       "      <th>...</th>\n",
       "      <td>...</td>\n",
       "      <td>...</td>\n",
       "      <td>...</td>\n",
       "      <td>...</td>\n",
       "      <td>...</td>\n",
       "      <td>...</td>\n",
       "    </tr>\n",
       "    <tr>\n",
       "      <th>25995</th>\n",
       "      <td>10025995</td>\n",
       "      <td>SE</td>\n",
       "      <td>2019-04-01</td>\n",
       "      <td>0</td>\n",
       "      <td>14</td>\n",
       "      <td>14</td>\n",
       "    </tr>\n",
       "    <tr>\n",
       "      <th>25996</th>\n",
       "      <td>10025996</td>\n",
       "      <td>SE</td>\n",
       "      <td>2019-04-02</td>\n",
       "      <td>0</td>\n",
       "      <td>34</td>\n",
       "      <td>6</td>\n",
       "    </tr>\n",
       "    <tr>\n",
       "      <th>25997</th>\n",
       "      <td>10025997</td>\n",
       "      <td>IT</td>\n",
       "      <td>2019-03-27</td>\n",
       "      <td>1</td>\n",
       "      <td>85</td>\n",
       "      <td>29</td>\n",
       "    </tr>\n",
       "    <tr>\n",
       "      <th>25998</th>\n",
       "      <td>10025998</td>\n",
       "      <td>IT</td>\n",
       "      <td>2019-03-25</td>\n",
       "      <td>3</td>\n",
       "      <td>16</td>\n",
       "      <td>28</td>\n",
       "    </tr>\n",
       "    <tr>\n",
       "      <th>25999</th>\n",
       "      <td>10025999</td>\n",
       "      <td>IT</td>\n",
       "      <td>2019-03-08</td>\n",
       "      <td>0</td>\n",
       "      <td>81</td>\n",
       "      <td>44</td>\n",
       "    </tr>\n",
       "  </tbody>\n",
       "</table>\n",
       "<p>26000 rows × 6 columns</p>\n",
       "</div>"
      ],
      "text/plain": [
       "             id country signup_date  message_count  call_count  search_count\n",
       "0      10000000      IT  2019-03-18              1          36            16\n",
       "1      10000001      IT  2019-03-03              0          64            20\n",
       "2      10000002      SE  2019-04-02              2           5            17\n",
       "3      10000003      IT  2019-03-27              0          60            38\n",
       "4      10000004      IT  2019-04-01              0          24            37\n",
       "...         ...     ...         ...            ...         ...           ...\n",
       "25995  10025995      SE  2019-04-01              0          14            14\n",
       "25996  10025996      SE  2019-04-02              0          34             6\n",
       "25997  10025997      IT  2019-03-27              1          85            29\n",
       "25998  10025998      IT  2019-03-25              3          16            28\n",
       "25999  10025999      IT  2019-03-08              0          81            44\n",
       "\n",
       "[26000 rows x 6 columns]"
      ]
     },
     "execution_count": 244,
     "metadata": {},
     "output_type": "execute_result"
    }
   ],
   "source": [
    "Master"
   ]
  },
  {
   "cell_type": "code",
   "execution_count": 245,
   "id": "e68bfd5d",
   "metadata": {},
   "outputs": [],
   "source": [
    "Master.to_csv('Master.csv')"
   ]
  },
  {
   "cell_type": "code",
   "execution_count": 19,
   "id": "e27fc62f",
   "metadata": {},
   "outputs": [],
   "source": [
    "Master = pd.read_csv('Master.csv').drop(['Unnamed: 0'], axis=1)"
   ]
  },
  {
   "cell_type": "markdown",
   "id": "15edf124",
   "metadata": {},
   "source": [
    "### This is the main aggregation dataset which basically have all of the data of the ID w.r.t searches, calls and messages they have done"
   ]
  },
  {
   "cell_type": "code",
   "execution_count": 20,
   "id": "d22e9f76",
   "metadata": {},
   "outputs": [
    {
     "data": {
      "text/html": [
       "<div>\n",
       "<style scoped>\n",
       "    .dataframe tbody tr th:only-of-type {\n",
       "        vertical-align: middle;\n",
       "    }\n",
       "\n",
       "    .dataframe tbody tr th {\n",
       "        vertical-align: top;\n",
       "    }\n",
       "\n",
       "    .dataframe thead th {\n",
       "        text-align: right;\n",
       "    }\n",
       "</style>\n",
       "<table border=\"1\" class=\"dataframe\">\n",
       "  <thead>\n",
       "    <tr style=\"text-align: right;\">\n",
       "      <th></th>\n",
       "      <th>id</th>\n",
       "      <th>country</th>\n",
       "      <th>signup_date</th>\n",
       "      <th>message_count</th>\n",
       "      <th>call_count</th>\n",
       "      <th>search_count</th>\n",
       "    </tr>\n",
       "  </thead>\n",
       "  <tbody>\n",
       "    <tr>\n",
       "      <th>0</th>\n",
       "      <td>10000000</td>\n",
       "      <td>IT</td>\n",
       "      <td>2019-03-18</td>\n",
       "      <td>1</td>\n",
       "      <td>36</td>\n",
       "      <td>16</td>\n",
       "    </tr>\n",
       "    <tr>\n",
       "      <th>1</th>\n",
       "      <td>10000001</td>\n",
       "      <td>IT</td>\n",
       "      <td>2019-03-03</td>\n",
       "      <td>0</td>\n",
       "      <td>64</td>\n",
       "      <td>20</td>\n",
       "    </tr>\n",
       "    <tr>\n",
       "      <th>2</th>\n",
       "      <td>10000002</td>\n",
       "      <td>SE</td>\n",
       "      <td>2019-04-02</td>\n",
       "      <td>2</td>\n",
       "      <td>5</td>\n",
       "      <td>17</td>\n",
       "    </tr>\n",
       "    <tr>\n",
       "      <th>3</th>\n",
       "      <td>10000003</td>\n",
       "      <td>IT</td>\n",
       "      <td>2019-03-27</td>\n",
       "      <td>0</td>\n",
       "      <td>60</td>\n",
       "      <td>38</td>\n",
       "    </tr>\n",
       "    <tr>\n",
       "      <th>4</th>\n",
       "      <td>10000004</td>\n",
       "      <td>IT</td>\n",
       "      <td>2019-04-01</td>\n",
       "      <td>0</td>\n",
       "      <td>24</td>\n",
       "      <td>37</td>\n",
       "    </tr>\n",
       "  </tbody>\n",
       "</table>\n",
       "</div>"
      ],
      "text/plain": [
       "         id country signup_date  message_count  call_count  search_count\n",
       "0  10000000      IT  2019-03-18              1          36            16\n",
       "1  10000001      IT  2019-03-03              0          64            20\n",
       "2  10000002      SE  2019-04-02              2           5            17\n",
       "3  10000003      IT  2019-03-27              0          60            38\n",
       "4  10000004      IT  2019-04-01              0          24            37"
      ]
     },
     "execution_count": 20,
     "metadata": {},
     "output_type": "execute_result"
    }
   ],
   "source": [
    "Master.head()"
   ]
  },
  {
   "cell_type": "code",
   "execution_count": 21,
   "id": "9a0520f6",
   "metadata": {},
   "outputs": [],
   "source": [
    "Master.signup_date = Master.signup_date.apply(pd.to_datetime)"
   ]
  },
  {
   "cell_type": "code",
   "execution_count": 22,
   "id": "2adeece6",
   "metadata": {},
   "outputs": [
    {
     "data": {
      "text/plain": [
       "<AxesSubplot:>"
      ]
     },
     "execution_count": 22,
     "metadata": {},
     "output_type": "execute_result"
    },
    {
     "data": {
      "image/png": "[encoded data removed]",
      "text/plain": [
       "<Figure size 432x288 with 1 Axes>"
      ]
     },
     "metadata": {
      "needs_background": "light"
     },
     "output_type": "display_data"
    }
   ],
   "source": [
    "Master[['call_count', 'message_count', 'search_count']].plot.box(showfliers=False)"
   ]
  },
  {
   "cell_type": "code",
   "execution_count": 23,
   "id": "de7d8a7e",
   "metadata": {},
   "outputs": [],
   "source": [
    "suspectes = Master[(Master.message_count==0)&(Master.call_count==0)]"
   ]
  },
  {
   "cell_type": "code",
   "execution_count": 24,
   "id": "9da62c48",
   "metadata": {},
   "outputs": [
    {
     "data": {
      "text/html": [
       "<div>\n",
       "<style scoped>\n",
       "    .dataframe tbody tr th:only-of-type {\n",
       "        vertical-align: middle;\n",
       "    }\n",
       "\n",
       "    .dataframe tbody tr th {\n",
       "        vertical-align: top;\n",
       "    }\n",
       "\n",
       "    .dataframe thead th {\n",
       "        text-align: right;\n",
       "    }\n",
       "</style>\n",
       "<table border=\"1\" class=\"dataframe\">\n",
       "  <thead>\n",
       "    <tr style=\"text-align: right;\">\n",
       "      <th></th>\n",
       "      <th>id</th>\n",
       "      <th>country</th>\n",
       "      <th>signup_date</th>\n",
       "      <th>message_count</th>\n",
       "      <th>call_count</th>\n",
       "      <th>search_count</th>\n",
       "    </tr>\n",
       "  </thead>\n",
       "  <tbody>\n",
       "    <tr>\n",
       "      <th>39</th>\n",
       "      <td>10000039</td>\n",
       "      <td>ES</td>\n",
       "      <td>2019-03-30</td>\n",
       "      <td>0</td>\n",
       "      <td>0</td>\n",
       "      <td>30</td>\n",
       "    </tr>\n",
       "    <tr>\n",
       "      <th>69</th>\n",
       "      <td>10000069</td>\n",
       "      <td>IT</td>\n",
       "      <td>2019-03-18</td>\n",
       "      <td>0</td>\n",
       "      <td>0</td>\n",
       "      <td>17</td>\n",
       "    </tr>\n",
       "    <tr>\n",
       "      <th>92</th>\n",
       "      <td>10000092</td>\n",
       "      <td>ES</td>\n",
       "      <td>2019-03-07</td>\n",
       "      <td>0</td>\n",
       "      <td>0</td>\n",
       "      <td>30</td>\n",
       "    </tr>\n",
       "    <tr>\n",
       "      <th>128</th>\n",
       "      <td>10000128</td>\n",
       "      <td>IT</td>\n",
       "      <td>2019-03-19</td>\n",
       "      <td>0</td>\n",
       "      <td>0</td>\n",
       "      <td>26</td>\n",
       "    </tr>\n",
       "    <tr>\n",
       "      <th>133</th>\n",
       "      <td>10000133</td>\n",
       "      <td>ES</td>\n",
       "      <td>2019-03-16</td>\n",
       "      <td>0</td>\n",
       "      <td>0</td>\n",
       "      <td>30</td>\n",
       "    </tr>\n",
       "  </tbody>\n",
       "</table>\n",
       "</div>"
      ],
      "text/plain": [
       "           id country signup_date  message_count  call_count  search_count\n",
       "39   10000039      ES  2019-03-30              0           0            30\n",
       "69   10000069      IT  2019-03-18              0           0            17\n",
       "92   10000092      ES  2019-03-07              0           0            30\n",
       "128  10000128      IT  2019-03-19              0           0            26\n",
       "133  10000133      ES  2019-03-16              0           0            30"
      ]
     },
     "execution_count": 24,
     "metadata": {},
     "output_type": "execute_result"
    }
   ],
   "source": [
    "suspectes.head()"
   ]
  },
  {
   "cell_type": "code",
   "execution_count": 25,
   "id": "0531773f",
   "metadata": {},
   "outputs": [
    {
     "data": {
      "text/plain": [
       "<AxesSubplot:>"
      ]
     },
     "execution_count": 25,
     "metadata": {},
     "output_type": "execute_result"
    },
    {
     "data": {
      "image/png": "[encoded data removed]",
      "text/plain": [
       "<Figure size 432x288 with 1 Axes>"
      ]
     },
     "metadata": {
      "needs_background": "light"
     },
     "output_type": "display_data"
    }
   ],
   "source": [
    "suspectes[['message_count','call_count', 'search_count']].sum(axis=0).plot.bar()"
   ]
  },
  {
   "cell_type": "markdown",
   "id": "a1086f47",
   "metadata": {},
   "source": [
    "### From the above graphs we can see that there are approx 1000 id which have not received any message or call but they have search records, we will put these records in the suspect category and will investigate more on them later on, let's do more analysis to find more suspects from the Master dataset"
   ]
  },
  {
   "cell_type": "code",
   "execution_count": 26,
   "id": "18e953b4",
   "metadata": {},
   "outputs": [],
   "source": [
    "Master2 = Master.copy()"
   ]
  },
  {
   "cell_type": "code",
   "execution_count": 27,
   "id": "3f07e0e0",
   "metadata": {},
   "outputs": [],
   "source": [
    "Master2 = Master2[~((Master2.message_count==0)&(Master2.call_count==0))]"
   ]
  },
  {
   "cell_type": "code",
   "execution_count": 28,
   "id": "dd81a735",
   "metadata": {},
   "outputs": [],
   "source": [
    "max_min = MinMaxScaler()"
   ]
  },
  {
   "cell_type": "code",
   "execution_count": 29,
   "id": "f4883c17",
   "metadata": {},
   "outputs": [
    {
     "data": {
      "text/html": [
       "<div>\n",
       "<style scoped>\n",
       "    .dataframe tbody tr th:only-of-type {\n",
       "        vertical-align: middle;\n",
       "    }\n",
       "\n",
       "    .dataframe tbody tr th {\n",
       "        vertical-align: top;\n",
       "    }\n",
       "\n",
       "    .dataframe thead th {\n",
       "        text-align: right;\n",
       "    }\n",
       "</style>\n",
       "<table border=\"1\" class=\"dataframe\">\n",
       "  <thead>\n",
       "    <tr style=\"text-align: right;\">\n",
       "      <th></th>\n",
       "      <th>id</th>\n",
       "      <th>country</th>\n",
       "      <th>signup_date</th>\n",
       "      <th>message_count</th>\n",
       "      <th>call_count</th>\n",
       "      <th>search_count</th>\n",
       "    </tr>\n",
       "  </thead>\n",
       "  <tbody>\n",
       "    <tr>\n",
       "      <th>0</th>\n",
       "      <td>10000000</td>\n",
       "      <td>IT</td>\n",
       "      <td>2019-03-18</td>\n",
       "      <td>1</td>\n",
       "      <td>36</td>\n",
       "      <td>16</td>\n",
       "    </tr>\n",
       "    <tr>\n",
       "      <th>1</th>\n",
       "      <td>10000001</td>\n",
       "      <td>IT</td>\n",
       "      <td>2019-03-03</td>\n",
       "      <td>0</td>\n",
       "      <td>64</td>\n",
       "      <td>20</td>\n",
       "    </tr>\n",
       "    <tr>\n",
       "      <th>2</th>\n",
       "      <td>10000002</td>\n",
       "      <td>SE</td>\n",
       "      <td>2019-04-02</td>\n",
       "      <td>2</td>\n",
       "      <td>5</td>\n",
       "      <td>17</td>\n",
       "    </tr>\n",
       "    <tr>\n",
       "      <th>3</th>\n",
       "      <td>10000003</td>\n",
       "      <td>IT</td>\n",
       "      <td>2019-03-27</td>\n",
       "      <td>0</td>\n",
       "      <td>60</td>\n",
       "      <td>38</td>\n",
       "    </tr>\n",
       "    <tr>\n",
       "      <th>4</th>\n",
       "      <td>10000004</td>\n",
       "      <td>IT</td>\n",
       "      <td>2019-04-01</td>\n",
       "      <td>0</td>\n",
       "      <td>24</td>\n",
       "      <td>37</td>\n",
       "    </tr>\n",
       "  </tbody>\n",
       "</table>\n",
       "</div>"
      ],
      "text/plain": [
       "         id country signup_date  message_count  call_count  search_count\n",
       "0  10000000      IT  2019-03-18              1          36            16\n",
       "1  10000001      IT  2019-03-03              0          64            20\n",
       "2  10000002      SE  2019-04-02              2           5            17\n",
       "3  10000003      IT  2019-03-27              0          60            38\n",
       "4  10000004      IT  2019-04-01              0          24            37"
      ]
     },
     "execution_count": 29,
     "metadata": {},
     "output_type": "execute_result"
    }
   ],
   "source": [
    "Master2.head()"
   ]
  },
  {
   "cell_type": "code",
   "execution_count": 30,
   "id": "ed726366",
   "metadata": {},
   "outputs": [],
   "source": [
    "normalized_data = max_min.fit_transform(Master2.iloc[:,3:].values)"
   ]
  },
  {
   "cell_type": "code",
   "execution_count": 31,
   "id": "9c8a9dc4",
   "metadata": {},
   "outputs": [],
   "source": [
    "Master2['message_normalized'] = normalized_data[:,0:1]"
   ]
  },
  {
   "cell_type": "code",
   "execution_count": 32,
   "id": "acbe19c1",
   "metadata": {},
   "outputs": [],
   "source": [
    "Master2['call_normalized'] = normalized_data[:,1:2]\n",
    "Master2['search_normalized'] = normalized_data[:,2:3]"
   ]
  },
  {
   "cell_type": "code",
   "execution_count": 33,
   "id": "c669cd8b",
   "metadata": {},
   "outputs": [],
   "source": [
    "Master2['searc2callmessRatio'] = Master2['search_normalized']/(Master2['message_normalized']+Master2['call_normalized'])"
   ]
  },
  {
   "cell_type": "code",
   "execution_count": 34,
   "id": "08618421",
   "metadata": {},
   "outputs": [
    {
     "data": {
      "text/plain": [
       "count    25000.000000\n",
       "mean         1.215377\n",
       "std          9.311662\n",
       "min          0.000000\n",
       "25%          0.109823\n",
       "50%          0.202044\n",
       "75%          0.364865\n",
       "max        665.115965\n",
       "Name: searc2callmessRatio, dtype: float64"
      ]
     },
     "execution_count": 34,
     "metadata": {},
     "output_type": "execute_result"
    }
   ],
   "source": [
    "Master2.searc2callmessRatio.describe()"
   ]
  },
  {
   "cell_type": "markdown",
   "id": "a41bf66a",
   "metadata": {},
   "source": [
    "#### Now we have created an ration between the search and call+message, the basic idea is that if there amount of search is much higher than that of call or text we will be able to look that here and these users are showing bot like behaviour "
   ]
  },
  {
   "cell_type": "markdown",
   "id": "7a08de0d",
   "metadata": {},
   "source": [
    "#### now we will use the ration to find out the users who have very high search hits but quite less call or message count "
   ]
  },
  {
   "cell_type": "code",
   "execution_count": 35,
   "id": "655805b5",
   "metadata": {},
   "outputs": [],
   "source": [
    "suspectes2 = Master2[Master2.searc2callmessRatio>=Master2.searc2callmessRatio.quantile(q=.98)]"
   ]
  },
  {
   "cell_type": "code",
   "execution_count": 36,
   "id": "aec69b0c",
   "metadata": {},
   "outputs": [
    {
     "data": {
      "text/html": [
       "<div>\n",
       "<style scoped>\n",
       "    .dataframe tbody tr th:only-of-type {\n",
       "        vertical-align: middle;\n",
       "    }\n",
       "\n",
       "    .dataframe tbody tr th {\n",
       "        vertical-align: top;\n",
       "    }\n",
       "\n",
       "    .dataframe thead th {\n",
       "        text-align: right;\n",
       "    }\n",
       "</style>\n",
       "<table border=\"1\" class=\"dataframe\">\n",
       "  <thead>\n",
       "    <tr style=\"text-align: right;\">\n",
       "      <th></th>\n",
       "      <th>id</th>\n",
       "      <th>country</th>\n",
       "      <th>signup_date</th>\n",
       "      <th>message_count</th>\n",
       "      <th>call_count</th>\n",
       "      <th>search_count</th>\n",
       "      <th>message_normalized</th>\n",
       "      <th>call_normalized</th>\n",
       "      <th>search_normalized</th>\n",
       "      <th>searc2callmessRatio</th>\n",
       "    </tr>\n",
       "  </thead>\n",
       "  <tbody>\n",
       "    <tr>\n",
       "      <th>31</th>\n",
       "      <td>10000031</td>\n",
       "      <td>SE</td>\n",
       "      <td>2019-03-18</td>\n",
       "      <td>2</td>\n",
       "      <td>3</td>\n",
       "      <td>286</td>\n",
       "      <td>0.00102</td>\n",
       "      <td>0.001785</td>\n",
       "      <td>0.050613</td>\n",
       "      <td>18.046697</td>\n",
       "    </tr>\n",
       "    <tr>\n",
       "      <th>82</th>\n",
       "      <td>10000082</td>\n",
       "      <td>GB</td>\n",
       "      <td>2019-03-11</td>\n",
       "      <td>0</td>\n",
       "      <td>3</td>\n",
       "      <td>400</td>\n",
       "      <td>0.00000</td>\n",
       "      <td>0.001785</td>\n",
       "      <td>0.070858</td>\n",
       "      <td>39.703960</td>\n",
       "    </tr>\n",
       "    <tr>\n",
       "      <th>87</th>\n",
       "      <td>10000087</td>\n",
       "      <td>FR</td>\n",
       "      <td>2019-03-13</td>\n",
       "      <td>1</td>\n",
       "      <td>2</td>\n",
       "      <td>273</td>\n",
       "      <td>0.00051</td>\n",
       "      <td>0.001190</td>\n",
       "      <td>0.048304</td>\n",
       "      <td>28.418952</td>\n",
       "    </tr>\n",
       "    <tr>\n",
       "      <th>108</th>\n",
       "      <td>10000108</td>\n",
       "      <td>SE</td>\n",
       "      <td>2019-03-15</td>\n",
       "      <td>1</td>\n",
       "      <td>1</td>\n",
       "      <td>306</td>\n",
       "      <td>0.00051</td>\n",
       "      <td>0.000595</td>\n",
       "      <td>0.054164</td>\n",
       "      <td>49.025234</td>\n",
       "    </tr>\n",
       "    <tr>\n",
       "      <th>115</th>\n",
       "      <td>10000115</td>\n",
       "      <td>SE</td>\n",
       "      <td>2019-03-05</td>\n",
       "      <td>1</td>\n",
       "      <td>1</td>\n",
       "      <td>383</td>\n",
       "      <td>0.00051</td>\n",
       "      <td>0.000595</td>\n",
       "      <td>0.067839</td>\n",
       "      <td>61.402097</td>\n",
       "    </tr>\n",
       "    <tr>\n",
       "      <th>...</th>\n",
       "      <td>...</td>\n",
       "      <td>...</td>\n",
       "      <td>...</td>\n",
       "      <td>...</td>\n",
       "      <td>...</td>\n",
       "      <td>...</td>\n",
       "      <td>...</td>\n",
       "      <td>...</td>\n",
       "      <td>...</td>\n",
       "      <td>...</td>\n",
       "    </tr>\n",
       "    <tr>\n",
       "      <th>25825</th>\n",
       "      <td>10025825</td>\n",
       "      <td>IT</td>\n",
       "      <td>2019-03-17</td>\n",
       "      <td>1</td>\n",
       "      <td>3</td>\n",
       "      <td>288</td>\n",
       "      <td>0.00051</td>\n",
       "      <td>0.001785</td>\n",
       "      <td>0.050968</td>\n",
       "      <td>22.212127</td>\n",
       "    </tr>\n",
       "    <tr>\n",
       "      <th>25844</th>\n",
       "      <td>10025844</td>\n",
       "      <td>SE</td>\n",
       "      <td>2019-03-06</td>\n",
       "      <td>2</td>\n",
       "      <td>1</td>\n",
       "      <td>314</td>\n",
       "      <td>0.00102</td>\n",
       "      <td>0.000595</td>\n",
       "      <td>0.055585</td>\n",
       "      <td>34.422916</td>\n",
       "    </tr>\n",
       "    <tr>\n",
       "      <th>25909</th>\n",
       "      <td>10025909</td>\n",
       "      <td>IT</td>\n",
       "      <td>2019-03-11</td>\n",
       "      <td>0</td>\n",
       "      <td>2</td>\n",
       "      <td>408</td>\n",
       "      <td>0.00000</td>\n",
       "      <td>0.001190</td>\n",
       "      <td>0.072278</td>\n",
       "      <td>60.750044</td>\n",
       "    </tr>\n",
       "    <tr>\n",
       "      <th>25923</th>\n",
       "      <td>10025923</td>\n",
       "      <td>IT</td>\n",
       "      <td>2019-03-02</td>\n",
       "      <td>1</td>\n",
       "      <td>3</td>\n",
       "      <td>373</td>\n",
       "      <td>0.00051</td>\n",
       "      <td>0.001785</td>\n",
       "      <td>0.066063</td>\n",
       "      <td>28.790632</td>\n",
       "    </tr>\n",
       "    <tr>\n",
       "      <th>25966</th>\n",
       "      <td>10025966</td>\n",
       "      <td>ES</td>\n",
       "      <td>2019-03-02</td>\n",
       "      <td>1</td>\n",
       "      <td>1</td>\n",
       "      <td>275</td>\n",
       "      <td>0.00051</td>\n",
       "      <td>0.000595</td>\n",
       "      <td>0.048659</td>\n",
       "      <td>44.042342</td>\n",
       "    </tr>\n",
       "  </tbody>\n",
       "</table>\n",
       "<p>500 rows × 10 columns</p>\n",
       "</div>"
      ],
      "text/plain": [
       "             id country signup_date  message_count  call_count  search_count  \\\n",
       "31     10000031      SE  2019-03-18              2           3           286   \n",
       "82     10000082      GB  2019-03-11              0           3           400   \n",
       "87     10000087      FR  2019-03-13              1           2           273   \n",
       "108    10000108      SE  2019-03-15              1           1           306   \n",
       "115    10000115      SE  2019-03-05              1           1           383   \n",
       "...         ...     ...         ...            ...         ...           ...   \n",
       "25825  10025825      IT  2019-03-17              1           3           288   \n",
       "25844  10025844      SE  2019-03-06              2           1           314   \n",
       "25909  10025909      IT  2019-03-11              0           2           408   \n",
       "25923  10025923      IT  2019-03-02              1           3           373   \n",
       "25966  10025966      ES  2019-03-02              1           1           275   \n",
       "\n",
       "       message_normalized  call_normalized  search_normalized  \\\n",
       "31                0.00102         0.001785           0.050613   \n",
       "82                0.00000         0.001785           0.070858   \n",
       "87                0.00051         0.001190           0.048304   \n",
       "108               0.00051         0.000595           0.054164   \n",
       "115               0.00051         0.000595           0.067839   \n",
       "...                   ...              ...                ...   \n",
       "25825             0.00051         0.001785           0.050968   \n",
       "25844             0.00102         0.000595           0.055585   \n",
       "25909             0.00000         0.001190           0.072278   \n",
       "25923             0.00051         0.001785           0.066063   \n",
       "25966             0.00051         0.000595           0.048659   \n",
       "\n",
       "       searc2callmessRatio  \n",
       "31               18.046697  \n",
       "82               39.703960  \n",
       "87               28.418952  \n",
       "108              49.025234  \n",
       "115              61.402097  \n",
       "...                    ...  \n",
       "25825            22.212127  \n",
       "25844            34.422916  \n",
       "25909            60.750044  \n",
       "25923            28.790632  \n",
       "25966            44.042342  \n",
       "\n",
       "[500 rows x 10 columns]"
      ]
     },
     "execution_count": 36,
     "metadata": {},
     "output_type": "execute_result"
    }
   ],
   "source": [
    "suspectes2"
   ]
  },
  {
   "cell_type": "markdown",
   "id": "72f1d1d3",
   "metadata": {},
   "source": [
    "### Now we have 1500 suspected spammers now let us do more analysis on the same"
   ]
  },
  {
   "cell_type": "markdown",
   "id": "19477fcd",
   "metadata": {},
   "source": [
    "#### if we have expanded the percentile and done more analysis we might be able to find more bot, but keeping the time constrain in mind I am moving ahead with 15000 possoble spammers"
   ]
  },
  {
   "cell_type": "code",
   "execution_count": 37,
   "id": "92da998f",
   "metadata": {},
   "outputs": [
    {
     "data": {
      "text/plain": [
       "count    1000.000000\n",
       "mean       25.000000\n",
       "std         5.934072\n",
       "min         9.000000\n",
       "25%        20.000000\n",
       "50%        30.000000\n",
       "75%        30.000000\n",
       "max        35.000000\n",
       "Name: search_count, dtype: float64"
      ]
     },
     "execution_count": 37,
     "metadata": {},
     "output_type": "execute_result"
    }
   ],
   "source": [
    "suspectes.search_count.describe()"
   ]
  },
  {
   "cell_type": "code",
   "execution_count": 38,
   "id": "69789b5c",
   "metadata": {},
   "outputs": [
    {
     "data": {
      "text/plain": [
       "<AxesSubplot:>"
      ]
     },
     "execution_count": 38,
     "metadata": {},
     "output_type": "execute_result"
    },
    {
     "data": {
      "image/png": "[encoded data removed]",
      "text/plain": [
       "<Figure size 432x288 with 1 Axes>"
      ]
     },
     "metadata": {
      "needs_background": "light"
     },
     "output_type": "display_data"
    }
   ],
   "source": [
    "suspectes.country.value_counts().plot.bar()"
   ]
  },
  {
   "cell_type": "code",
   "execution_count": 39,
   "id": "27a33935",
   "metadata": {},
   "outputs": [],
   "source": [
    "total_it_cnt = data_signup.country_code.value_counts()['IT']\n",
    "total_es_cnt = data_signup.country_code.value_counts()['ES']"
   ]
  },
  {
   "cell_type": "code",
   "execution_count": 40,
   "id": "b4e7e90b",
   "metadata": {},
   "outputs": [
    {
     "data": {
      "text/plain": [
       "<AxesSubplot:>"
      ]
     },
     "execution_count": 40,
     "metadata": {},
     "output_type": "execute_result"
    },
    {
     "data": {
      "image/png": "[encoded data removed]",
      "text/plain": [
       "<Figure size 432x288 with 1 Axes>"
      ]
     },
     "metadata": {
      "needs_background": "light"
     },
     "output_type": "display_data"
    }
   ],
   "source": [
    "suspectes2.country.value_counts().plot.bar()"
   ]
  },
  {
   "cell_type": "code",
   "execution_count": 41,
   "id": "71f46a97",
   "metadata": {},
   "outputs": [],
   "source": [
    "suspect_it_count = suspectes2.country.value_counts()['IT'] + suspectes.country.value_counts()['IT']\n",
    "suspect_es_count = suspectes2.country.value_counts()['ES'] + suspectes.country.value_counts()['ES']\n",
    "suspect_gb_count = suspectes2.country.value_counts()['GB']\n",
    "suspect_se_count = suspectes2.country.value_counts()['SE']\n",
    "suspect_fr_count = suspectes2.country.value_counts()['FR']"
   ]
  },
  {
   "cell_type": "code",
   "execution_count": 42,
   "id": "7d42b255",
   "metadata": {},
   "outputs": [
    {
     "name": "stdout",
     "output_type": "stream",
     "text": [
      "\n",
      "\n",
      "5.87% of total 11224 i.e 659 IT country numbers seems to be fradulent\n",
      "\n",
      "\n",
      "18.31% of total 2922 i.e 535 ES country numbers seems to be fradulent\n",
      "\n",
      "\n",
      "2.6% of total 5428 i.e 141 GB country numbers seems to be fradulent\n",
      "\n",
      "\n",
      "1.97%of total 4720 i.e 93 SE country numbers seems to be fradulent\n",
      "\n",
      "\n",
      "4.22%of total 1706 i.e 72 FR country numbers seems to be fradulent\n",
      "\n",
      "\n",
      "\n"
     ]
    }
   ],
   "source": [
    "print(f\"\"\"\n",
    "\n",
    "{round((suspect_it_count /total_it_cnt)*100,2)}% of total {total_it_cnt} i.e\\\n",
    " {suspect_it_count} IT country numbers seems to be fradulent\\n\n",
    "\n",
    "{round((suspect_es_count /total_es_cnt)*100,2)}% of total {total_es_cnt} i.e\\\n",
    " {suspect_es_count} ES country numbers seems to be fradulent\\n\n",
    "\n",
    "{round((suspect_gb_count /data_signup.country_code.value_counts()['GB'])*100,2)}%\\\n",
    " of total {data_signup.country_code.value_counts()['GB']} i.e {suspect_gb_count} GB country numbers seems to be fradulent\\n\n",
    "\n",
    "{round((suspect_se_count /data_signup.country_code.value_counts()['SE'])*100,2)}%\\\n",
    "of total {data_signup.country_code.value_counts()['SE']} i.e {suspect_se_count} SE country numbers seems to be fradulent\\n\n",
    "\n",
    "{round((suspect_fr_count /data_signup.country_code.value_counts()['FR'])*100,2)}%\\\n",
    "of total {data_signup.country_code.value_counts()['FR']} i.e {suspect_fr_count} FR country numbers seems to be fradulent\\n\n",
    "\n",
    "\"\"\")"
   ]
  },
  {
   "cell_type": "markdown",
   "id": "cebd3faf",
   "metadata": {},
   "source": [
    "### Here when we analysed the suspects data w.r.t  country code we found that number whihc are siging up from spain seems to have most suspecious behaviour  "
   ]
  },
  {
   "cell_type": "markdown",
   "id": "59b46251",
   "metadata": {},
   "source": [
    "### Let's analyze the search data w.r.t countries"
   ]
  },
  {
   "cell_type": "code",
   "execution_count": 43,
   "id": "22a5ffd7",
   "metadata": {},
   "outputs": [
    {
     "data": {
      "text/plain": [
       "Text(0.5, 1.0, 'ES')"
      ]
     },
     "execution_count": 43,
     "metadata": {},
     "output_type": "execute_result"
    },
    {
     "data": {
      "image/png": "[encoded data removed]",
      "text/plain": [
       "<Figure size 432x288 with 1 Axes>"
      ]
     },
     "metadata": {
      "needs_background": "light"
     },
     "output_type": "display_data"
    }
   ],
   "source": [
    "Master[Master['country']=='ES'][['search_count','call_count', 'message_count']].plot.box(showfliers=False).set_title('ES')"
   ]
  },
  {
   "cell_type": "code",
   "execution_count": 44,
   "id": "7d2bd46a",
   "metadata": {},
   "outputs": [
    {
     "data": {
      "text/plain": [
       "Text(0.5, 1.0, 'IT')"
      ]
     },
     "execution_count": 44,
     "metadata": {},
     "output_type": "execute_result"
    },
    {
     "data": {
      "image/png": "[encoded data removed]",
      "text/plain": [
       "<Figure size 432x288 with 1 Axes>"
      ]
     },
     "metadata": {
      "needs_background": "light"
     },
     "output_type": "display_data"
    }
   ],
   "source": [
    "Master[Master['country']=='IT'][['search_count','call_count', 'message_count']].plot.box(showfliers=False).set_title('IT')"
   ]
  },
  {
   "cell_type": "code",
   "execution_count": 45,
   "id": "4e6c16a3",
   "metadata": {},
   "outputs": [
    {
     "data": {
      "text/plain": [
       "Text(0.5, 1.0, 'GB')"
      ]
     },
     "execution_count": 45,
     "metadata": {},
     "output_type": "execute_result"
    },
    {
     "data": {
      "image/png": "[encoded data removed]",
      "text/plain": [
       "<Figure size 432x288 with 1 Axes>"
      ]
     },
     "metadata": {
      "needs_background": "light"
     },
     "output_type": "display_data"
    }
   ],
   "source": [
    "Master[Master['country']=='GB'][['search_count','call_count', 'message_count']].plot.box(showfliers=False).set_title('GB')"
   ]
  },
  {
   "cell_type": "code",
   "execution_count": 46,
   "id": "4ae4b270",
   "metadata": {},
   "outputs": [
    {
     "data": {
      "text/plain": [
       "Text(0.5, 1.0, 'SE')"
      ]
     },
     "execution_count": 46,
     "metadata": {},
     "output_type": "execute_result"
    },
    {
     "data": {
      "image/png": "[encoded data removed]",
      "text/plain": [
       "<Figure size 432x288 with 1 Axes>"
      ]
     },
     "metadata": {
      "needs_background": "light"
     },
     "output_type": "display_data"
    }
   ],
   "source": [
    "Master[Master['country']=='SE'][['search_count','call_count', 'message_count']].plot.box(showfliers=False).set_title('SE')"
   ]
  },
  {
   "cell_type": "code",
   "execution_count": 47,
   "id": "4bfbd9af",
   "metadata": {},
   "outputs": [
    {
     "data": {
      "text/plain": [
       "Text(0.5, 1.0, 'FR')"
      ]
     },
     "execution_count": 47,
     "metadata": {},
     "output_type": "execute_result"
    },
    {
     "data": {
      "image/png": "[encoded data removed]",
      "text/plain": [
       "<Figure size 432x288 with 1 Axes>"
      ]
     },
     "metadata": {
      "needs_background": "light"
     },
     "output_type": "display_data"
    }
   ],
   "source": [
    "Master[Master['country']=='FR'][['search_count','call_count', 'message_count']].plot.box(showfliers=False).set_title('FR')"
   ]
  },
  {
   "cell_type": "markdown",
   "id": "4986a6c3",
   "metadata": {},
   "source": [
    "### we see that message count is almost the lowest in all of the country and call has the highest range"
   ]
  },
  {
   "cell_type": "markdown",
   "id": "4107f58a",
   "metadata": {},
   "source": [
    "## Now let's see the country wise analysis of suspected users "
   ]
  },
  {
   "cell_type": "code",
   "execution_count": 48,
   "id": "ac09e472",
   "metadata": {},
   "outputs": [
    {
     "data": {
      "text/plain": [
       "Text(0.5, 1.0, 'IT')"
      ]
     },
     "execution_count": 48,
     "metadata": {},
     "output_type": "execute_result"
    },
    {
     "data": {
      "image/png": "[encoded data removed]",
      "text/plain": [
       "<Figure size 432x288 with 1 Axes>"
      ]
     },
     "metadata": {
      "needs_background": "light"
     },
     "output_type": "display_data"
    }
   ],
   "source": [
    "suspectes2[suspectes2.country=='IT'][['search_count','call_count', 'message_count']].plot.box(showfliers=False).set_title('IT')"
   ]
  },
  {
   "cell_type": "code",
   "execution_count": 49,
   "id": "b2b98087",
   "metadata": {},
   "outputs": [
    {
     "data": {
      "text/plain": [
       "Text(0.5, 1.0, 'ES')"
      ]
     },
     "execution_count": 49,
     "metadata": {},
     "output_type": "execute_result"
    },
    {
     "data": {
      "image/png": "[encoded data removed]",
      "text/plain": [
       "<Figure size 432x288 with 1 Axes>"
      ]
     },
     "metadata": {
      "needs_background": "light"
     },
     "output_type": "display_data"
    }
   ],
   "source": [
    "suspectes2[suspectes2.country=='ES'][['search_count','call_count', 'message_count']].plot.box(showfliers=False).set_title('ES')"
   ]
  },
  {
   "cell_type": "code",
   "execution_count": 50,
   "id": "f0c26d36",
   "metadata": {},
   "outputs": [
    {
     "data": {
      "text/plain": [
       "Text(0.5, 1.0, 'GB')"
      ]
     },
     "execution_count": 50,
     "metadata": {},
     "output_type": "execute_result"
    },
    {
     "data": {
      "image/png": "[encoded data removed]",
      "text/plain": [
       "<Figure size 432x288 with 1 Axes>"
      ]
     },
     "metadata": {
      "needs_background": "light"
     },
     "output_type": "display_data"
    }
   ],
   "source": [
    "suspectes2[suspectes2.country=='GB'][['search_count','call_count', 'message_count']].plot.box(showfliers=False).set_title('GB')"
   ]
  },
  {
   "cell_type": "code",
   "execution_count": 51,
   "id": "4da35af5",
   "metadata": {},
   "outputs": [
    {
     "data": {
      "text/plain": [
       "Text(0.5, 1.0, 'SE')"
      ]
     },
     "execution_count": 51,
     "metadata": {},
     "output_type": "execute_result"
    },
    {
     "data": {
      "image/png": "[encoded data removed]",
      "text/plain": [
       "<Figure size 432x288 with 1 Axes>"
      ]
     },
     "metadata": {
      "needs_background": "light"
     },
     "output_type": "display_data"
    }
   ],
   "source": [
    "suspectes2[suspectes2.country=='SE'][['search_count','call_count', 'message_count']].plot.box(showfliers=False).set_title('SE')"
   ]
  },
  {
   "cell_type": "code",
   "execution_count": 52,
   "id": "29d7cceb",
   "metadata": {},
   "outputs": [
    {
     "data": {
      "text/plain": [
       "Text(0.5, 1.0, 'FR')"
      ]
     },
     "execution_count": 52,
     "metadata": {},
     "output_type": "execute_result"
    },
    {
     "data": {
      "image/png": "[encoded data removed]",
      "text/plain": [
       "<Figure size 432x288 with 1 Axes>"
      ]
     },
     "metadata": {
      "needs_background": "light"
     },
     "output_type": "display_data"
    }
   ],
   "source": [
    "suspectes2[suspectes2.country=='FR'][['search_count','call_count', 'message_count']].plot.box(showfliers=False).set_title('FR')"
   ]
  },
  {
   "cell_type": "markdown",
   "id": "2ab202b8",
   "metadata": {},
   "source": [
    "### Now we can see that the suspected users show the same behaviour i.e search count is much more than that of call or message count"
   ]
  },
  {
   "cell_type": "markdown",
   "id": "24f65526",
   "metadata": {},
   "source": [
    "### Let's analyse the data more to draw some more conclusions "
   ]
  },
  {
   "cell_type": "code",
   "execution_count": 53,
   "id": "34dc8e6d",
   "metadata": {},
   "outputs": [
    {
     "data": {
      "text/html": [
       "<div>\n",
       "<style scoped>\n",
       "    .dataframe tbody tr th:only-of-type {\n",
       "        vertical-align: middle;\n",
       "    }\n",
       "\n",
       "    .dataframe tbody tr th {\n",
       "        vertical-align: top;\n",
       "    }\n",
       "\n",
       "    .dataframe thead th {\n",
       "        text-align: right;\n",
       "    }\n",
       "</style>\n",
       "<table border=\"1\" class=\"dataframe\">\n",
       "  <thead>\n",
       "    <tr style=\"text-align: right;\">\n",
       "      <th></th>\n",
       "      <th>id</th>\n",
       "      <th>country</th>\n",
       "      <th>signup_date</th>\n",
       "      <th>message_count</th>\n",
       "      <th>call_count</th>\n",
       "      <th>search_count</th>\n",
       "    </tr>\n",
       "  </thead>\n",
       "  <tbody>\n",
       "    <tr>\n",
       "      <th>3023</th>\n",
       "      <td>10003023</td>\n",
       "      <td>IT</td>\n",
       "      <td>2019-04-02</td>\n",
       "      <td>0</td>\n",
       "      <td>0</td>\n",
       "      <td>28</td>\n",
       "    </tr>\n",
       "    <tr>\n",
       "      <th>18140</th>\n",
       "      <td>10018140</td>\n",
       "      <td>IT</td>\n",
       "      <td>2019-04-02</td>\n",
       "      <td>0</td>\n",
       "      <td>0</td>\n",
       "      <td>22</td>\n",
       "    </tr>\n",
       "    <tr>\n",
       "      <th>6595</th>\n",
       "      <td>10006595</td>\n",
       "      <td>ES</td>\n",
       "      <td>2019-04-02</td>\n",
       "      <td>0</td>\n",
       "      <td>0</td>\n",
       "      <td>30</td>\n",
       "    </tr>\n",
       "    <tr>\n",
       "      <th>18309</th>\n",
       "      <td>10018309</td>\n",
       "      <td>ES</td>\n",
       "      <td>2019-04-02</td>\n",
       "      <td>0</td>\n",
       "      <td>0</td>\n",
       "      <td>30</td>\n",
       "    </tr>\n",
       "    <tr>\n",
       "      <th>5571</th>\n",
       "      <td>10005571</td>\n",
       "      <td>ES</td>\n",
       "      <td>2019-04-02</td>\n",
       "      <td>0</td>\n",
       "      <td>0</td>\n",
       "      <td>30</td>\n",
       "    </tr>\n",
       "    <tr>\n",
       "      <th>...</th>\n",
       "      <td>...</td>\n",
       "      <td>...</td>\n",
       "      <td>...</td>\n",
       "      <td>...</td>\n",
       "      <td>...</td>\n",
       "      <td>...</td>\n",
       "    </tr>\n",
       "    <tr>\n",
       "      <th>3496</th>\n",
       "      <td>10003496</td>\n",
       "      <td>ES</td>\n",
       "      <td>2019-03-02</td>\n",
       "      <td>0</td>\n",
       "      <td>0</td>\n",
       "      <td>30</td>\n",
       "    </tr>\n",
       "    <tr>\n",
       "      <th>6120</th>\n",
       "      <td>10006120</td>\n",
       "      <td>IT</td>\n",
       "      <td>2019-03-02</td>\n",
       "      <td>0</td>\n",
       "      <td>0</td>\n",
       "      <td>22</td>\n",
       "    </tr>\n",
       "    <tr>\n",
       "      <th>6635</th>\n",
       "      <td>10006635</td>\n",
       "      <td>ES</td>\n",
       "      <td>2019-03-02</td>\n",
       "      <td>0</td>\n",
       "      <td>0</td>\n",
       "      <td>30</td>\n",
       "    </tr>\n",
       "    <tr>\n",
       "      <th>23028</th>\n",
       "      <td>10023028</td>\n",
       "      <td>ES</td>\n",
       "      <td>2019-03-02</td>\n",
       "      <td>0</td>\n",
       "      <td>0</td>\n",
       "      <td>30</td>\n",
       "    </tr>\n",
       "    <tr>\n",
       "      <th>20959</th>\n",
       "      <td>10020959</td>\n",
       "      <td>IT</td>\n",
       "      <td>2019-03-02</td>\n",
       "      <td>0</td>\n",
       "      <td>0</td>\n",
       "      <td>24</td>\n",
       "    </tr>\n",
       "  </tbody>\n",
       "</table>\n",
       "<p>1000 rows × 6 columns</p>\n",
       "</div>"
      ],
      "text/plain": [
       "             id country signup_date  message_count  call_count  search_count\n",
       "3023   10003023      IT  2019-04-02              0           0            28\n",
       "18140  10018140      IT  2019-04-02              0           0            22\n",
       "6595   10006595      ES  2019-04-02              0           0            30\n",
       "18309  10018309      ES  2019-04-02              0           0            30\n",
       "5571   10005571      ES  2019-04-02              0           0            30\n",
       "...         ...     ...         ...            ...         ...           ...\n",
       "3496   10003496      ES  2019-03-02              0           0            30\n",
       "6120   10006120      IT  2019-03-02              0           0            22\n",
       "6635   10006635      ES  2019-03-02              0           0            30\n",
       "23028  10023028      ES  2019-03-02              0           0            30\n",
       "20959  10020959      IT  2019-03-02              0           0            24\n",
       "\n",
       "[1000 rows x 6 columns]"
      ]
     },
     "execution_count": 53,
     "metadata": {},
     "output_type": "execute_result"
    }
   ],
   "source": [
    "suspectes.sort_values(by=['signup_date'], ascending=False)"
   ]
  },
  {
   "cell_type": "code",
   "execution_count": 54,
   "id": "81d393f2",
   "metadata": {},
   "outputs": [
    {
     "data": {
      "text/html": [
       "<div>\n",
       "<style scoped>\n",
       "    .dataframe tbody tr th:only-of-type {\n",
       "        vertical-align: middle;\n",
       "    }\n",
       "\n",
       "    .dataframe tbody tr th {\n",
       "        vertical-align: top;\n",
       "    }\n",
       "\n",
       "    .dataframe thead th {\n",
       "        text-align: right;\n",
       "    }\n",
       "</style>\n",
       "<table border=\"1\" class=\"dataframe\">\n",
       "  <thead>\n",
       "    <tr style=\"text-align: right;\">\n",
       "      <th></th>\n",
       "      <th>id</th>\n",
       "      <th>country</th>\n",
       "      <th>signup_date</th>\n",
       "      <th>message_count</th>\n",
       "      <th>call_count</th>\n",
       "      <th>search_count</th>\n",
       "      <th>message_normalized</th>\n",
       "      <th>call_normalized</th>\n",
       "      <th>search_normalized</th>\n",
       "      <th>searc2callmessRatio</th>\n",
       "    </tr>\n",
       "  </thead>\n",
       "  <tbody>\n",
       "    <tr>\n",
       "      <th>8491</th>\n",
       "      <td>10008491</td>\n",
       "      <td>SE</td>\n",
       "      <td>2019-04-02</td>\n",
       "      <td>0</td>\n",
       "      <td>3</td>\n",
       "      <td>305</td>\n",
       "      <td>0.00000</td>\n",
       "      <td>0.001785</td>\n",
       "      <td>0.053987</td>\n",
       "      <td>30.250636</td>\n",
       "    </tr>\n",
       "    <tr>\n",
       "      <th>14664</th>\n",
       "      <td>10014664</td>\n",
       "      <td>IT</td>\n",
       "      <td>2019-04-02</td>\n",
       "      <td>0</td>\n",
       "      <td>3</td>\n",
       "      <td>313</td>\n",
       "      <td>0.00000</td>\n",
       "      <td>0.001785</td>\n",
       "      <td>0.055408</td>\n",
       "      <td>31.046706</td>\n",
       "    </tr>\n",
       "    <tr>\n",
       "      <th>22546</th>\n",
       "      <td>10022546</td>\n",
       "      <td>FR</td>\n",
       "      <td>2019-04-02</td>\n",
       "      <td>1</td>\n",
       "      <td>3</td>\n",
       "      <td>333</td>\n",
       "      <td>0.00051</td>\n",
       "      <td>0.001785</td>\n",
       "      <td>0.058959</td>\n",
       "      <td>25.694865</td>\n",
       "    </tr>\n",
       "    <tr>\n",
       "      <th>3815</th>\n",
       "      <td>10003815</td>\n",
       "      <td>GB</td>\n",
       "      <td>2019-04-02</td>\n",
       "      <td>1</td>\n",
       "      <td>1</td>\n",
       "      <td>304</td>\n",
       "      <td>0.00051</td>\n",
       "      <td>0.000595</td>\n",
       "      <td>0.053809</td>\n",
       "      <td>48.703757</td>\n",
       "    </tr>\n",
       "    <tr>\n",
       "      <th>23113</th>\n",
       "      <td>10023113</td>\n",
       "      <td>GB</td>\n",
       "      <td>2019-04-02</td>\n",
       "      <td>0</td>\n",
       "      <td>1</td>\n",
       "      <td>302</td>\n",
       "      <td>0.00000</td>\n",
       "      <td>0.000595</td>\n",
       "      <td>0.053454</td>\n",
       "      <td>89.856331</td>\n",
       "    </tr>\n",
       "    <tr>\n",
       "      <th>...</th>\n",
       "      <td>...</td>\n",
       "      <td>...</td>\n",
       "      <td>...</td>\n",
       "      <td>...</td>\n",
       "      <td>...</td>\n",
       "      <td>...</td>\n",
       "      <td>...</td>\n",
       "      <td>...</td>\n",
       "      <td>...</td>\n",
       "      <td>...</td>\n",
       "    </tr>\n",
       "    <tr>\n",
       "      <th>21783</th>\n",
       "      <td>10021783</td>\n",
       "      <td>IT</td>\n",
       "      <td>2019-03-02</td>\n",
       "      <td>2</td>\n",
       "      <td>2</td>\n",
       "      <td>302</td>\n",
       "      <td>0.00102</td>\n",
       "      <td>0.001190</td>\n",
       "      <td>0.053454</td>\n",
       "      <td>24.191140</td>\n",
       "    </tr>\n",
       "    <tr>\n",
       "      <th>22106</th>\n",
       "      <td>10022106</td>\n",
       "      <td>FR</td>\n",
       "      <td>2019-03-02</td>\n",
       "      <td>2</td>\n",
       "      <td>1</td>\n",
       "      <td>343</td>\n",
       "      <td>0.00102</td>\n",
       "      <td>0.000595</td>\n",
       "      <td>0.060735</td>\n",
       "      <td>37.612259</td>\n",
       "    </tr>\n",
       "    <tr>\n",
       "      <th>22733</th>\n",
       "      <td>10022733</td>\n",
       "      <td>SE</td>\n",
       "      <td>2019-03-02</td>\n",
       "      <td>1</td>\n",
       "      <td>3</td>\n",
       "      <td>445</td>\n",
       "      <td>0.00051</td>\n",
       "      <td>0.001785</td>\n",
       "      <td>0.078849</td>\n",
       "      <td>34.363012</td>\n",
       "    </tr>\n",
       "    <tr>\n",
       "      <th>23157</th>\n",
       "      <td>10023157</td>\n",
       "      <td>GB</td>\n",
       "      <td>2019-03-02</td>\n",
       "      <td>1</td>\n",
       "      <td>3</td>\n",
       "      <td>304</td>\n",
       "      <td>0.00051</td>\n",
       "      <td>0.001785</td>\n",
       "      <td>0.053809</td>\n",
       "      <td>23.450434</td>\n",
       "    </tr>\n",
       "    <tr>\n",
       "      <th>25966</th>\n",
       "      <td>10025966</td>\n",
       "      <td>ES</td>\n",
       "      <td>2019-03-02</td>\n",
       "      <td>1</td>\n",
       "      <td>1</td>\n",
       "      <td>275</td>\n",
       "      <td>0.00051</td>\n",
       "      <td>0.000595</td>\n",
       "      <td>0.048659</td>\n",
       "      <td>44.042342</td>\n",
       "    </tr>\n",
       "  </tbody>\n",
       "</table>\n",
       "<p>500 rows × 10 columns</p>\n",
       "</div>"
      ],
      "text/plain": [
       "             id country signup_date  message_count  call_count  search_count  \\\n",
       "8491   10008491      SE  2019-04-02              0           3           305   \n",
       "14664  10014664      IT  2019-04-02              0           3           313   \n",
       "22546  10022546      FR  2019-04-02              1           3           333   \n",
       "3815   10003815      GB  2019-04-02              1           1           304   \n",
       "23113  10023113      GB  2019-04-02              0           1           302   \n",
       "...         ...     ...         ...            ...         ...           ...   \n",
       "21783  10021783      IT  2019-03-02              2           2           302   \n",
       "22106  10022106      FR  2019-03-02              2           1           343   \n",
       "22733  10022733      SE  2019-03-02              1           3           445   \n",
       "23157  10023157      GB  2019-03-02              1           3           304   \n",
       "25966  10025966      ES  2019-03-02              1           1           275   \n",
       "\n",
       "       message_normalized  call_normalized  search_normalized  \\\n",
       "8491              0.00000         0.001785           0.053987   \n",
       "14664             0.00000         0.001785           0.055408   \n",
       "22546             0.00051         0.001785           0.058959   \n",
       "3815              0.00051         0.000595           0.053809   \n",
       "23113             0.00000         0.000595           0.053454   \n",
       "...                   ...              ...                ...   \n",
       "21783             0.00102         0.001190           0.053454   \n",
       "22106             0.00102         0.000595           0.060735   \n",
       "22733             0.00051         0.001785           0.078849   \n",
       "23157             0.00051         0.001785           0.053809   \n",
       "25966             0.00051         0.000595           0.048659   \n",
       "\n",
       "       searc2callmessRatio  \n",
       "8491             30.250636  \n",
       "14664            31.046706  \n",
       "22546            25.694865  \n",
       "3815             48.703757  \n",
       "23113            89.856331  \n",
       "...                    ...  \n",
       "21783            24.191140  \n",
       "22106            37.612259  \n",
       "22733            34.363012  \n",
       "23157            23.450434  \n",
       "25966            44.042342  \n",
       "\n",
       "[500 rows x 10 columns]"
      ]
     },
     "execution_count": 54,
     "metadata": {},
     "output_type": "execute_result"
    }
   ],
   "source": [
    "suspectes2.sort_values(by=['signup_date'], ascending=False)"
   ]
  },
  {
   "cell_type": "markdown",
   "id": "bcbecc26",
   "metadata": {},
   "source": [
    "### Now I will be analysing suspects2 in details as in suspects dataset there are no calls or messages reveiced so I am assuing all of these id are absolute fraud "
   ]
  },
  {
   "cell_type": "markdown",
   "id": "bd68c5f6",
   "metadata": {},
   "source": [
    "### Now I am finding out the time delay between the signup and 1st message, 1st call and 1st search"
   ]
  },
  {
   "cell_type": "markdown",
   "id": "c704a4f4",
   "metadata": {},
   "source": [
    "#### doing this will help us to see if we might have miscalssified any valid user, as if a bot is deployed then it will start looking for contact details immediately "
   ]
  },
  {
   "cell_type": "code",
   "execution_count": 62,
   "id": "5b321732",
   "metadata": {},
   "outputs": [],
   "source": [
    "def create_delay_frame(suspect2, data_message, data_call, data_search):\n",
    "    '''\n",
    "    This function help us find the delay between the first message, call and search\n",
    "    with respect to the signup date\n",
    "    '''\n",
    "    time_list = []\n",
    "    for i,id in tq(enumerate(suspectes2.id)):\n",
    "        time_delay = {}\n",
    "        time_delay['id'] = id\n",
    "        if suspectes2[suspectes2.id==id]['message_count'].values[0]!=0:\n",
    "            latest_message_date = \\\n",
    "            data_message[data_message.user_id==id].sort_values(by=['message_ts'])\\\n",
    "            .iloc[0][1]\n",
    "            \n",
    "            time_delay['message_delay']=\\\n",
    "            latest_message_date - suspectes2[suspectes2.id==id]\\\n",
    "            ['signup_date'].values[0]\n",
    "        else:\n",
    "            time_delay['message_delay'] = 0\n",
    "\n",
    "        if (suspectes2[suspectes2.id==id]['call_count'].values[0])!=0:\n",
    "            latest_call_date = data_call[data_call.user_id==id].sort_values(by=['call_ts'])\\\n",
    "            .iloc[0][1]\n",
    "            time_delay['call_delay'] =\\\n",
    "            latest_call_date - suspectes2[suspectes2.id==id]['signup_date'].values[0]\n",
    "        else:\n",
    "            time_delay['call_delay'] = 0\n",
    "\n",
    "        if (suspectes2[suspectes2.id==id]['search_count'].values[0])!=0:\n",
    "            latest_search_date =\\\n",
    "            data_search[data_search.user_id==id].sort_values(by=['search_ts']).iloc[0][1]\n",
    "            time_delay['search_delay'] =\\\n",
    "            latest_search_date - suspectes2[suspectes2.id==id]['signup_date'].values[0]\n",
    "        else:\n",
    "            time_delay['search_delay'] = 0\n",
    "\n",
    "\n",
    "        time_list.append(time_delay)\n",
    "\n",
    "    return time_list"
   ]
  },
  {
   "cell_type": "code",
   "execution_count": 63,
   "id": "a6d12e5d",
   "metadata": {},
   "outputs": [
    {
     "name": "stderr",
     "output_type": "stream",
     "text": [
      "500it [00:03, 157.88it/s]\n"
     ]
    }
   ],
   "source": [
    "time_list = create_delay_frame(suspectes2, data_message, data_call, data_search)"
   ]
  },
  {
   "cell_type": "code",
   "execution_count": 64,
   "id": "1a556456",
   "metadata": {},
   "outputs": [],
   "source": [
    "delay_frame = pd.DataFrame(time_list)"
   ]
  },
  {
   "cell_type": "code",
   "execution_count": 66,
   "id": "c6a590d6",
   "metadata": {},
   "outputs": [
    {
     "data": {
      "text/html": [
       "<div>\n",
       "<style scoped>\n",
       "    .dataframe tbody tr th:only-of-type {\n",
       "        vertical-align: middle;\n",
       "    }\n",
       "\n",
       "    .dataframe tbody tr th {\n",
       "        vertical-align: top;\n",
       "    }\n",
       "\n",
       "    .dataframe thead th {\n",
       "        text-align: right;\n",
       "    }\n",
       "</style>\n",
       "<table border=\"1\" class=\"dataframe\">\n",
       "  <thead>\n",
       "    <tr style=\"text-align: right;\">\n",
       "      <th></th>\n",
       "      <th>id</th>\n",
       "      <th>message_delay</th>\n",
       "      <th>call_delay</th>\n",
       "      <th>search_delay</th>\n",
       "    </tr>\n",
       "  </thead>\n",
       "  <tbody>\n",
       "    <tr>\n",
       "      <th>0</th>\n",
       "      <td>10000031</td>\n",
       "      <td>1 days 08:22:42.612000</td>\n",
       "      <td>0 days 18:44:33.078000</td>\n",
       "      <td>0 days 09:54:52.738000</td>\n",
       "    </tr>\n",
       "    <tr>\n",
       "      <th>1</th>\n",
       "      <td>10000082</td>\n",
       "      <td>0</td>\n",
       "      <td>5 days 09:36:28.588000</td>\n",
       "      <td>0 days 20:01:57.484000</td>\n",
       "    </tr>\n",
       "    <tr>\n",
       "      <th>2</th>\n",
       "      <td>10000087</td>\n",
       "      <td>2 days 00:11:52.540000</td>\n",
       "      <td>3 days 13:24:29.691000</td>\n",
       "      <td>0 days 07:55:59.967000</td>\n",
       "    </tr>\n",
       "    <tr>\n",
       "      <th>3</th>\n",
       "      <td>10000108</td>\n",
       "      <td>1 days 13:01:58.058000</td>\n",
       "      <td>3 days 07:59:16.277000</td>\n",
       "      <td>0 days 13:37:13.684000</td>\n",
       "    </tr>\n",
       "    <tr>\n",
       "      <th>4</th>\n",
       "      <td>10000115</td>\n",
       "      <td>8 days 00:23:21.213000</td>\n",
       "      <td>3 days 13:38:49.048000</td>\n",
       "      <td>0 days 20:18:42.860000</td>\n",
       "    </tr>\n",
       "    <tr>\n",
       "      <th>...</th>\n",
       "      <td>...</td>\n",
       "      <td>...</td>\n",
       "      <td>...</td>\n",
       "      <td>...</td>\n",
       "    </tr>\n",
       "    <tr>\n",
       "      <th>495</th>\n",
       "      <td>10025825</td>\n",
       "      <td>0 days 08:32:46.337000</td>\n",
       "      <td>7 days 09:27:20.582000</td>\n",
       "      <td>0 days 18:19:11.864000</td>\n",
       "    </tr>\n",
       "    <tr>\n",
       "      <th>496</th>\n",
       "      <td>10025844</td>\n",
       "      <td>7 days 23:44:46.715000</td>\n",
       "      <td>5 days 13:33:01.783000</td>\n",
       "      <td>0 days 18:07:19.724000</td>\n",
       "    </tr>\n",
       "    <tr>\n",
       "      <th>497</th>\n",
       "      <td>10025909</td>\n",
       "      <td>0</td>\n",
       "      <td>6 days 16:50:34.788000</td>\n",
       "      <td>0 days 10:52:48.366000</td>\n",
       "    </tr>\n",
       "    <tr>\n",
       "      <th>498</th>\n",
       "      <td>10025923</td>\n",
       "      <td>6 days 01:32:27.868000</td>\n",
       "      <td>0 days 14:17:40.350000</td>\n",
       "      <td>0 days 09:09:41.100000</td>\n",
       "    </tr>\n",
       "    <tr>\n",
       "      <th>499</th>\n",
       "      <td>10025966</td>\n",
       "      <td>2 days 15:38:04.712000</td>\n",
       "      <td>7 days 05:31:18.325000</td>\n",
       "      <td>0 days 19:26:22.664000</td>\n",
       "    </tr>\n",
       "  </tbody>\n",
       "</table>\n",
       "<p>500 rows × 4 columns</p>\n",
       "</div>"
      ],
      "text/plain": [
       "           id           message_delay             call_delay  \\\n",
       "0    10000031  1 days 08:22:42.612000 0 days 18:44:33.078000   \n",
       "1    10000082                       0 5 days 09:36:28.588000   \n",
       "2    10000087  2 days 00:11:52.540000 3 days 13:24:29.691000   \n",
       "3    10000108  1 days 13:01:58.058000 3 days 07:59:16.277000   \n",
       "4    10000115  8 days 00:23:21.213000 3 days 13:38:49.048000   \n",
       "..        ...                     ...                    ...   \n",
       "495  10025825  0 days 08:32:46.337000 7 days 09:27:20.582000   \n",
       "496  10025844  7 days 23:44:46.715000 5 days 13:33:01.783000   \n",
       "497  10025909                       0 6 days 16:50:34.788000   \n",
       "498  10025923  6 days 01:32:27.868000 0 days 14:17:40.350000   \n",
       "499  10025966  2 days 15:38:04.712000 7 days 05:31:18.325000   \n",
       "\n",
       "              search_delay  \n",
       "0   0 days 09:54:52.738000  \n",
       "1   0 days 20:01:57.484000  \n",
       "2   0 days 07:55:59.967000  \n",
       "3   0 days 13:37:13.684000  \n",
       "4   0 days 20:18:42.860000  \n",
       "..                     ...  \n",
       "495 0 days 18:19:11.864000  \n",
       "496 0 days 18:07:19.724000  \n",
       "497 0 days 10:52:48.366000  \n",
       "498 0 days 09:09:41.100000  \n",
       "499 0 days 19:26:22.664000  \n",
       "\n",
       "[500 rows x 4 columns]"
      ]
     },
     "execution_count": 66,
     "metadata": {},
     "output_type": "execute_result"
    }
   ],
   "source": [
    "delay_frame"
   ]
  },
  {
   "cell_type": "code",
   "execution_count": 67,
   "id": "d892a563",
   "metadata": {},
   "outputs": [],
   "source": [
    "newSuspect = suspectes2.merge(delay_frame)"
   ]
  },
  {
   "cell_type": "code",
   "execution_count": 68,
   "id": "d5e7bccd",
   "metadata": {},
   "outputs": [
    {
     "data": {
      "text/html": [
       "<div>\n",
       "<style scoped>\n",
       "    .dataframe tbody tr th:only-of-type {\n",
       "        vertical-align: middle;\n",
       "    }\n",
       "\n",
       "    .dataframe tbody tr th {\n",
       "        vertical-align: top;\n",
       "    }\n",
       "\n",
       "    .dataframe thead th {\n",
       "        text-align: right;\n",
       "    }\n",
       "</style>\n",
       "<table border=\"1\" class=\"dataframe\">\n",
       "  <thead>\n",
       "    <tr style=\"text-align: right;\">\n",
       "      <th></th>\n",
       "      <th>id</th>\n",
       "      <th>country</th>\n",
       "      <th>signup_date</th>\n",
       "      <th>message_count</th>\n",
       "      <th>call_count</th>\n",
       "      <th>search_count</th>\n",
       "      <th>message_normalized</th>\n",
       "      <th>call_normalized</th>\n",
       "      <th>search_normalized</th>\n",
       "      <th>searc2callmessRatio</th>\n",
       "      <th>message_delay</th>\n",
       "      <th>call_delay</th>\n",
       "      <th>search_delay</th>\n",
       "    </tr>\n",
       "  </thead>\n",
       "  <tbody>\n",
       "    <tr>\n",
       "      <th>0</th>\n",
       "      <td>10000031</td>\n",
       "      <td>SE</td>\n",
       "      <td>2019-03-18</td>\n",
       "      <td>2</td>\n",
       "      <td>3</td>\n",
       "      <td>286</td>\n",
       "      <td>0.00102</td>\n",
       "      <td>0.001785</td>\n",
       "      <td>0.050613</td>\n",
       "      <td>18.046697</td>\n",
       "      <td>1 days 08:22:42.612000</td>\n",
       "      <td>0 days 18:44:33.078000</td>\n",
       "      <td>0 days 09:54:52.738000</td>\n",
       "    </tr>\n",
       "    <tr>\n",
       "      <th>1</th>\n",
       "      <td>10000082</td>\n",
       "      <td>GB</td>\n",
       "      <td>2019-03-11</td>\n",
       "      <td>0</td>\n",
       "      <td>3</td>\n",
       "      <td>400</td>\n",
       "      <td>0.00000</td>\n",
       "      <td>0.001785</td>\n",
       "      <td>0.070858</td>\n",
       "      <td>39.703960</td>\n",
       "      <td>0</td>\n",
       "      <td>5 days 09:36:28.588000</td>\n",
       "      <td>0 days 20:01:57.484000</td>\n",
       "    </tr>\n",
       "    <tr>\n",
       "      <th>2</th>\n",
       "      <td>10000087</td>\n",
       "      <td>FR</td>\n",
       "      <td>2019-03-13</td>\n",
       "      <td>1</td>\n",
       "      <td>2</td>\n",
       "      <td>273</td>\n",
       "      <td>0.00051</td>\n",
       "      <td>0.001190</td>\n",
       "      <td>0.048304</td>\n",
       "      <td>28.418952</td>\n",
       "      <td>2 days 00:11:52.540000</td>\n",
       "      <td>3 days 13:24:29.691000</td>\n",
       "      <td>0 days 07:55:59.967000</td>\n",
       "    </tr>\n",
       "    <tr>\n",
       "      <th>3</th>\n",
       "      <td>10000108</td>\n",
       "      <td>SE</td>\n",
       "      <td>2019-03-15</td>\n",
       "      <td>1</td>\n",
       "      <td>1</td>\n",
       "      <td>306</td>\n",
       "      <td>0.00051</td>\n",
       "      <td>0.000595</td>\n",
       "      <td>0.054164</td>\n",
       "      <td>49.025234</td>\n",
       "      <td>1 days 13:01:58.058000</td>\n",
       "      <td>3 days 07:59:16.277000</td>\n",
       "      <td>0 days 13:37:13.684000</td>\n",
       "    </tr>\n",
       "    <tr>\n",
       "      <th>4</th>\n",
       "      <td>10000115</td>\n",
       "      <td>SE</td>\n",
       "      <td>2019-03-05</td>\n",
       "      <td>1</td>\n",
       "      <td>1</td>\n",
       "      <td>383</td>\n",
       "      <td>0.00051</td>\n",
       "      <td>0.000595</td>\n",
       "      <td>0.067839</td>\n",
       "      <td>61.402097</td>\n",
       "      <td>8 days 00:23:21.213000</td>\n",
       "      <td>3 days 13:38:49.048000</td>\n",
       "      <td>0 days 20:18:42.860000</td>\n",
       "    </tr>\n",
       "    <tr>\n",
       "      <th>...</th>\n",
       "      <td>...</td>\n",
       "      <td>...</td>\n",
       "      <td>...</td>\n",
       "      <td>...</td>\n",
       "      <td>...</td>\n",
       "      <td>...</td>\n",
       "      <td>...</td>\n",
       "      <td>...</td>\n",
       "      <td>...</td>\n",
       "      <td>...</td>\n",
       "      <td>...</td>\n",
       "      <td>...</td>\n",
       "      <td>...</td>\n",
       "    </tr>\n",
       "    <tr>\n",
       "      <th>495</th>\n",
       "      <td>10025825</td>\n",
       "      <td>IT</td>\n",
       "      <td>2019-03-17</td>\n",
       "      <td>1</td>\n",
       "      <td>3</td>\n",
       "      <td>288</td>\n",
       "      <td>0.00051</td>\n",
       "      <td>0.001785</td>\n",
       "      <td>0.050968</td>\n",
       "      <td>22.212127</td>\n",
       "      <td>0 days 08:32:46.337000</td>\n",
       "      <td>7 days 09:27:20.582000</td>\n",
       "      <td>0 days 18:19:11.864000</td>\n",
       "    </tr>\n",
       "    <tr>\n",
       "      <th>496</th>\n",
       "      <td>10025844</td>\n",
       "      <td>SE</td>\n",
       "      <td>2019-03-06</td>\n",
       "      <td>2</td>\n",
       "      <td>1</td>\n",
       "      <td>314</td>\n",
       "      <td>0.00102</td>\n",
       "      <td>0.000595</td>\n",
       "      <td>0.055585</td>\n",
       "      <td>34.422916</td>\n",
       "      <td>7 days 23:44:46.715000</td>\n",
       "      <td>5 days 13:33:01.783000</td>\n",
       "      <td>0 days 18:07:19.724000</td>\n",
       "    </tr>\n",
       "    <tr>\n",
       "      <th>497</th>\n",
       "      <td>10025909</td>\n",
       "      <td>IT</td>\n",
       "      <td>2019-03-11</td>\n",
       "      <td>0</td>\n",
       "      <td>2</td>\n",
       "      <td>408</td>\n",
       "      <td>0.00000</td>\n",
       "      <td>0.001190</td>\n",
       "      <td>0.072278</td>\n",
       "      <td>60.750044</td>\n",
       "      <td>0</td>\n",
       "      <td>6 days 16:50:34.788000</td>\n",
       "      <td>0 days 10:52:48.366000</td>\n",
       "    </tr>\n",
       "    <tr>\n",
       "      <th>498</th>\n",
       "      <td>10025923</td>\n",
       "      <td>IT</td>\n",
       "      <td>2019-03-02</td>\n",
       "      <td>1</td>\n",
       "      <td>3</td>\n",
       "      <td>373</td>\n",
       "      <td>0.00051</td>\n",
       "      <td>0.001785</td>\n",
       "      <td>0.066063</td>\n",
       "      <td>28.790632</td>\n",
       "      <td>6 days 01:32:27.868000</td>\n",
       "      <td>0 days 14:17:40.350000</td>\n",
       "      <td>0 days 09:09:41.100000</td>\n",
       "    </tr>\n",
       "    <tr>\n",
       "      <th>499</th>\n",
       "      <td>10025966</td>\n",
       "      <td>ES</td>\n",
       "      <td>2019-03-02</td>\n",
       "      <td>1</td>\n",
       "      <td>1</td>\n",
       "      <td>275</td>\n",
       "      <td>0.00051</td>\n",
       "      <td>0.000595</td>\n",
       "      <td>0.048659</td>\n",
       "      <td>44.042342</td>\n",
       "      <td>2 days 15:38:04.712000</td>\n",
       "      <td>7 days 05:31:18.325000</td>\n",
       "      <td>0 days 19:26:22.664000</td>\n",
       "    </tr>\n",
       "  </tbody>\n",
       "</table>\n",
       "<p>500 rows × 13 columns</p>\n",
       "</div>"
      ],
      "text/plain": [
       "           id country signup_date  message_count  call_count  search_count  \\\n",
       "0    10000031      SE  2019-03-18              2           3           286   \n",
       "1    10000082      GB  2019-03-11              0           3           400   \n",
       "2    10000087      FR  2019-03-13              1           2           273   \n",
       "3    10000108      SE  2019-03-15              1           1           306   \n",
       "4    10000115      SE  2019-03-05              1           1           383   \n",
       "..        ...     ...         ...            ...         ...           ...   \n",
       "495  10025825      IT  2019-03-17              1           3           288   \n",
       "496  10025844      SE  2019-03-06              2           1           314   \n",
       "497  10025909      IT  2019-03-11              0           2           408   \n",
       "498  10025923      IT  2019-03-02              1           3           373   \n",
       "499  10025966      ES  2019-03-02              1           1           275   \n",
       "\n",
       "     message_normalized  call_normalized  search_normalized  \\\n",
       "0               0.00102         0.001785           0.050613   \n",
       "1               0.00000         0.001785           0.070858   \n",
       "2               0.00051         0.001190           0.048304   \n",
       "3               0.00051         0.000595           0.054164   \n",
       "4               0.00051         0.000595           0.067839   \n",
       "..                  ...              ...                ...   \n",
       "495             0.00051         0.001785           0.050968   \n",
       "496             0.00102         0.000595           0.055585   \n",
       "497             0.00000         0.001190           0.072278   \n",
       "498             0.00051         0.001785           0.066063   \n",
       "499             0.00051         0.000595           0.048659   \n",
       "\n",
       "     searc2callmessRatio           message_delay             call_delay  \\\n",
       "0              18.046697  1 days 08:22:42.612000 0 days 18:44:33.078000   \n",
       "1              39.703960                       0 5 days 09:36:28.588000   \n",
       "2              28.418952  2 days 00:11:52.540000 3 days 13:24:29.691000   \n",
       "3              49.025234  1 days 13:01:58.058000 3 days 07:59:16.277000   \n",
       "4              61.402097  8 days 00:23:21.213000 3 days 13:38:49.048000   \n",
       "..                   ...                     ...                    ...   \n",
       "495            22.212127  0 days 08:32:46.337000 7 days 09:27:20.582000   \n",
       "496            34.422916  7 days 23:44:46.715000 5 days 13:33:01.783000   \n",
       "497            60.750044                       0 6 days 16:50:34.788000   \n",
       "498            28.790632  6 days 01:32:27.868000 0 days 14:17:40.350000   \n",
       "499            44.042342  2 days 15:38:04.712000 7 days 05:31:18.325000   \n",
       "\n",
       "              search_delay  \n",
       "0   0 days 09:54:52.738000  \n",
       "1   0 days 20:01:57.484000  \n",
       "2   0 days 07:55:59.967000  \n",
       "3   0 days 13:37:13.684000  \n",
       "4   0 days 20:18:42.860000  \n",
       "..                     ...  \n",
       "495 0 days 18:19:11.864000  \n",
       "496 0 days 18:07:19.724000  \n",
       "497 0 days 10:52:48.366000  \n",
       "498 0 days 09:09:41.100000  \n",
       "499 0 days 19:26:22.664000  \n",
       "\n",
       "[500 rows x 13 columns]"
      ]
     },
     "execution_count": 68,
     "metadata": {},
     "output_type": "execute_result"
    }
   ],
   "source": [
    "newSuspect"
   ]
  },
  {
   "cell_type": "code",
   "execution_count": 69,
   "id": "b8e0cc90",
   "metadata": {},
   "outputs": [
    {
     "data": {
      "text/plain": [
       "<AxesSubplot:>"
      ]
     },
     "execution_count": 69,
     "metadata": {},
     "output_type": "execute_result"
    },
    {
     "data": {
      "image/png": "[encoded data removed]",
      "text/plain": [
       "<Figure size 432x288 with 1 Axes>"
      ]
     },
     "metadata": {
      "needs_background": "light"
     },
     "output_type": "display_data"
    }
   ],
   "source": [
    "newSuspect.sort_values(by='search_delay')['search_delay'].apply(lambda x:x.days).plot.box(showfliers=False)"
   ]
  },
  {
   "cell_type": "code",
   "execution_count": 70,
   "id": "c5cc9ff2",
   "metadata": {},
   "outputs": [
    {
     "data": {
      "text/html": [
       "<div>\n",
       "<style scoped>\n",
       "    .dataframe tbody tr th:only-of-type {\n",
       "        vertical-align: middle;\n",
       "    }\n",
       "\n",
       "    .dataframe tbody tr th {\n",
       "        vertical-align: top;\n",
       "    }\n",
       "\n",
       "    .dataframe thead th {\n",
       "        text-align: right;\n",
       "    }\n",
       "</style>\n",
       "<table border=\"1\" class=\"dataframe\">\n",
       "  <thead>\n",
       "    <tr style=\"text-align: right;\">\n",
       "      <th></th>\n",
       "      <th>id</th>\n",
       "      <th>country</th>\n",
       "      <th>signup_date</th>\n",
       "      <th>message_count</th>\n",
       "      <th>call_count</th>\n",
       "      <th>search_count</th>\n",
       "      <th>message_normalized</th>\n",
       "      <th>call_normalized</th>\n",
       "      <th>search_normalized</th>\n",
       "      <th>searc2callmessRatio</th>\n",
       "      <th>message_delay</th>\n",
       "      <th>call_delay</th>\n",
       "      <th>search_delay</th>\n",
       "    </tr>\n",
       "  </thead>\n",
       "  <tbody>\n",
       "    <tr>\n",
       "      <th>75</th>\n",
       "      <td>10003936</td>\n",
       "      <td>IT</td>\n",
       "      <td>2019-03-08</td>\n",
       "      <td>0</td>\n",
       "      <td>2</td>\n",
       "      <td>630</td>\n",
       "      <td>0.00000</td>\n",
       "      <td>0.001190</td>\n",
       "      <td>0.111703</td>\n",
       "      <td>93.886432</td>\n",
       "      <td>0</td>\n",
       "      <td>3 days 20:06:45.084000</td>\n",
       "      <td>19 days 12:06:38.130000</td>\n",
       "    </tr>\n",
       "    <tr>\n",
       "      <th>100</th>\n",
       "      <td>10005127</td>\n",
       "      <td>SE</td>\n",
       "      <td>2019-03-19</td>\n",
       "      <td>0</td>\n",
       "      <td>1</td>\n",
       "      <td>282</td>\n",
       "      <td>0.00000</td>\n",
       "      <td>0.000595</td>\n",
       "      <td>0.049902</td>\n",
       "      <td>83.885811</td>\n",
       "      <td>0</td>\n",
       "      <td>3 days 01:17:06.048000</td>\n",
       "      <td>1 days 15:23:46.829000</td>\n",
       "    </tr>\n",
       "    <tr>\n",
       "      <th>125</th>\n",
       "      <td>10006841</td>\n",
       "      <td>GB</td>\n",
       "      <td>2019-03-14</td>\n",
       "      <td>1</td>\n",
       "      <td>1</td>\n",
       "      <td>401</td>\n",
       "      <td>0.00051</td>\n",
       "      <td>0.000595</td>\n",
       "      <td>0.071035</td>\n",
       "      <td>64.295389</td>\n",
       "      <td>1 days 15:47:06.064000</td>\n",
       "      <td>2 days 23:14:08.660000</td>\n",
       "      <td>1 days 09:46:58.153000</td>\n",
       "    </tr>\n",
       "    <tr>\n",
       "      <th>150</th>\n",
       "      <td>10008454</td>\n",
       "      <td>IT</td>\n",
       "      <td>2019-03-05</td>\n",
       "      <td>2</td>\n",
       "      <td>2</td>\n",
       "      <td>335</td>\n",
       "      <td>0.00102</td>\n",
       "      <td>0.001190</td>\n",
       "      <td>0.059315</td>\n",
       "      <td>26.843325</td>\n",
       "      <td>2 days 20:07:14.109000</td>\n",
       "      <td>0 days 14:16:58.420000</td>\n",
       "      <td>3 days 09:11:23.355000</td>\n",
       "    </tr>\n",
       "    <tr>\n",
       "      <th>192</th>\n",
       "      <td>10010843</td>\n",
       "      <td>IT</td>\n",
       "      <td>2019-03-18</td>\n",
       "      <td>2</td>\n",
       "      <td>3</td>\n",
       "      <td>691</td>\n",
       "      <td>0.00102</td>\n",
       "      <td>0.001785</td>\n",
       "      <td>0.122536</td>\n",
       "      <td>43.692003</td>\n",
       "      <td>0 days 05:20:24.578000</td>\n",
       "      <td>2 days 15:40:49.940000</td>\n",
       "      <td>3 days 14:14:41.229000</td>\n",
       "    </tr>\n",
       "    <tr>\n",
       "      <th>258</th>\n",
       "      <td>10014321</td>\n",
       "      <td>SE</td>\n",
       "      <td>2019-03-21</td>\n",
       "      <td>1</td>\n",
       "      <td>2</td>\n",
       "      <td>288</td>\n",
       "      <td>0.00051</td>\n",
       "      <td>0.001190</td>\n",
       "      <td>0.050968</td>\n",
       "      <td>29.986174</td>\n",
       "      <td>3 days 04:15:45.819000</td>\n",
       "      <td>3 days 19:46:39.127000</td>\n",
       "      <td>13 days 13:31:58.387000</td>\n",
       "    </tr>\n",
       "    <tr>\n",
       "      <th>292</th>\n",
       "      <td>10015848</td>\n",
       "      <td>FR</td>\n",
       "      <td>2019-04-02</td>\n",
       "      <td>0</td>\n",
       "      <td>3</td>\n",
       "      <td>282</td>\n",
       "      <td>0.00000</td>\n",
       "      <td>0.001785</td>\n",
       "      <td>0.049902</td>\n",
       "      <td>27.961937</td>\n",
       "      <td>0</td>\n",
       "      <td>0 days 14:14:57.719000</td>\n",
       "      <td>1 days 13:42:28.197000</td>\n",
       "    </tr>\n",
       "    <tr>\n",
       "      <th>300</th>\n",
       "      <td>10016420</td>\n",
       "      <td>GB</td>\n",
       "      <td>2019-03-08</td>\n",
       "      <td>1</td>\n",
       "      <td>1</td>\n",
       "      <td>1238</td>\n",
       "      <td>0.00051</td>\n",
       "      <td>0.000595</td>\n",
       "      <td>0.219677</td>\n",
       "      <td>198.833491</td>\n",
       "      <td>8 days 04:40:18.996000</td>\n",
       "      <td>5 days 06:34:51.616000</td>\n",
       "      <td>1 days 00:28:26.934000</td>\n",
       "    </tr>\n",
       "    <tr>\n",
       "      <th>314</th>\n",
       "      <td>10017065</td>\n",
       "      <td>GB</td>\n",
       "      <td>2019-03-04</td>\n",
       "      <td>0</td>\n",
       "      <td>2</td>\n",
       "      <td>828</td>\n",
       "      <td>0.00000</td>\n",
       "      <td>0.001190</td>\n",
       "      <td>0.146866</td>\n",
       "      <td>123.440508</td>\n",
       "      <td>0</td>\n",
       "      <td>4 days 15:47:04.537000</td>\n",
       "      <td>3 days 22:38:06.862000</td>\n",
       "    </tr>\n",
       "    <tr>\n",
       "      <th>335</th>\n",
       "      <td>10018025</td>\n",
       "      <td>GB</td>\n",
       "      <td>2019-04-01</td>\n",
       "      <td>2</td>\n",
       "      <td>3</td>\n",
       "      <td>289</td>\n",
       "      <td>0.00102</td>\n",
       "      <td>0.001785</td>\n",
       "      <td>0.051145</td>\n",
       "      <td>18.236662</td>\n",
       "      <td>0 days 01:40:15.264000</td>\n",
       "      <td>2 days 00:34:32.527000</td>\n",
       "      <td>2 days 10:38:01.773000</td>\n",
       "    </tr>\n",
       "    <tr>\n",
       "      <th>427</th>\n",
       "      <td>10022739</td>\n",
       "      <td>FR</td>\n",
       "      <td>2019-03-25</td>\n",
       "      <td>1</td>\n",
       "      <td>3</td>\n",
       "      <td>275</td>\n",
       "      <td>0.00051</td>\n",
       "      <td>0.001785</td>\n",
       "      <td>0.048659</td>\n",
       "      <td>21.206003</td>\n",
       "      <td>6 days 03:13:10.275000</td>\n",
       "      <td>0 days 03:11:54.104000</td>\n",
       "      <td>9 days 18:01:05.472000</td>\n",
       "    </tr>\n",
       "    <tr>\n",
       "      <th>489</th>\n",
       "      <td>10025626</td>\n",
       "      <td>FR</td>\n",
       "      <td>2019-03-11</td>\n",
       "      <td>2</td>\n",
       "      <td>1</td>\n",
       "      <td>501</td>\n",
       "      <td>0.00102</td>\n",
       "      <td>0.000595</td>\n",
       "      <td>0.088794</td>\n",
       "      <td>54.988683</td>\n",
       "      <td>4 days 04:44:26.142000</td>\n",
       "      <td>9 days 00:54:15.361000</td>\n",
       "      <td>1 days 16:34:44.659000</td>\n",
       "    </tr>\n",
       "  </tbody>\n",
       "</table>\n",
       "</div>"
      ],
      "text/plain": [
       "           id country signup_date  message_count  call_count  search_count  \\\n",
       "75   10003936      IT  2019-03-08              0           2           630   \n",
       "100  10005127      SE  2019-03-19              0           1           282   \n",
       "125  10006841      GB  2019-03-14              1           1           401   \n",
       "150  10008454      IT  2019-03-05              2           2           335   \n",
       "192  10010843      IT  2019-03-18              2           3           691   \n",
       "258  10014321      SE  2019-03-21              1           2           288   \n",
       "292  10015848      FR  2019-04-02              0           3           282   \n",
       "300  10016420      GB  2019-03-08              1           1          1238   \n",
       "314  10017065      GB  2019-03-04              0           2           828   \n",
       "335  10018025      GB  2019-04-01              2           3           289   \n",
       "427  10022739      FR  2019-03-25              1           3           275   \n",
       "489  10025626      FR  2019-03-11              2           1           501   \n",
       "\n",
       "     message_normalized  call_normalized  search_normalized  \\\n",
       "75              0.00000         0.001190           0.111703   \n",
       "100             0.00000         0.000595           0.049902   \n",
       "125             0.00051         0.000595           0.071035   \n",
       "150             0.00102         0.001190           0.059315   \n",
       "192             0.00102         0.001785           0.122536   \n",
       "258             0.00051         0.001190           0.050968   \n",
       "292             0.00000         0.001785           0.049902   \n",
       "300             0.00051         0.000595           0.219677   \n",
       "314             0.00000         0.001190           0.146866   \n",
       "335             0.00102         0.001785           0.051145   \n",
       "427             0.00051         0.001785           0.048659   \n",
       "489             0.00102         0.000595           0.088794   \n",
       "\n",
       "     searc2callmessRatio           message_delay             call_delay  \\\n",
       "75             93.886432                       0 3 days 20:06:45.084000   \n",
       "100            83.885811                       0 3 days 01:17:06.048000   \n",
       "125            64.295389  1 days 15:47:06.064000 2 days 23:14:08.660000   \n",
       "150            26.843325  2 days 20:07:14.109000 0 days 14:16:58.420000   \n",
       "192            43.692003  0 days 05:20:24.578000 2 days 15:40:49.940000   \n",
       "258            29.986174  3 days 04:15:45.819000 3 days 19:46:39.127000   \n",
       "292            27.961937                       0 0 days 14:14:57.719000   \n",
       "300           198.833491  8 days 04:40:18.996000 5 days 06:34:51.616000   \n",
       "314           123.440508                       0 4 days 15:47:04.537000   \n",
       "335            18.236662  0 days 01:40:15.264000 2 days 00:34:32.527000   \n",
       "427            21.206003  6 days 03:13:10.275000 0 days 03:11:54.104000   \n",
       "489            54.988683  4 days 04:44:26.142000 9 days 00:54:15.361000   \n",
       "\n",
       "               search_delay  \n",
       "75  19 days 12:06:38.130000  \n",
       "100  1 days 15:23:46.829000  \n",
       "125  1 days 09:46:58.153000  \n",
       "150  3 days 09:11:23.355000  \n",
       "192  3 days 14:14:41.229000  \n",
       "258 13 days 13:31:58.387000  \n",
       "292  1 days 13:42:28.197000  \n",
       "300  1 days 00:28:26.934000  \n",
       "314  3 days 22:38:06.862000  \n",
       "335  2 days 10:38:01.773000  \n",
       "427  9 days 18:01:05.472000  \n",
       "489  1 days 16:34:44.659000  "
      ]
     },
     "execution_count": 70,
     "metadata": {},
     "output_type": "execute_result"
    }
   ],
   "source": [
    "newSuspect[newSuspect['search_delay'].apply(lambda x:x.days)!=0]"
   ]
  },
  {
   "cell_type": "markdown",
   "id": "a1355aee",
   "metadata": {},
   "source": [
    "### From the above table we can see that these used didn't start searching immediately but if we look at the search count it is quite hard to rule them as legitimate users "
   ]
  },
  {
   "cell_type": "markdown",
   "id": "8bf0fdca",
   "metadata": {},
   "source": [
    " "
   ]
  },
  {
   "cell_type": "code",
   "execution_count": 71,
   "id": "cad2924a",
   "metadata": {},
   "outputs": [],
   "source": [
    "final = pd.DataFrame({'Suspects_id':suspectes2.id.values})"
   ]
  },
  {
   "cell_type": "markdown",
   "id": "1b2199dc",
   "metadata": {},
   "source": [
    "## Now in the suspects dataset we had 1000 suspects but let us take only those users who have search count more than 20 "
   ]
  },
  {
   "cell_type": "code",
   "execution_count": 72,
   "id": "4dd2258f",
   "metadata": {},
   "outputs": [],
   "source": [
    "main_sus = suspectes[suspectes.search_count>20].id.values"
   ]
  },
  {
   "cell_type": "code",
   "execution_count": 73,
   "id": "a98b6cb2",
   "metadata": {},
   "outputs": [],
   "source": [
    "final = final.append(pd.DataFrame({'Suspects_id':main_sus}), ignore_index=True)"
   ]
  },
  {
   "cell_type": "code",
   "execution_count": 460,
   "id": "9ae8661d",
   "metadata": {},
   "outputs": [],
   "source": [
    "final.to_csv('final.csv')"
   ]
  },
  {
   "cell_type": "markdown",
   "id": "2bf1f941",
   "metadata": {},
   "source": [
    "# CONCLUSION:\n",
    "### There are 1228 id found to be of spam nature more details are posted in the blog\n",
    "### we can use the data from the search and plot the activity of the user w.r.t to time then we can have the activity graph which can help us in the identification of the spammers behaviours"
   ]
  },
  {
   "cell_type": "code",
   "execution_count": null,
   "id": "89a9f7ba",
   "metadata": {},
   "outputs": [],
   "source": []
  }
 ],
 "metadata": {
  "kernelspec": {
   "display_name": "Python 3",
   "language": "python",
   "name": "python3"
  },
  "language_info": {
   "codemirror_mode": {
    "name": "ipython",
    "version": 3
   },
   "file_extension": ".py",
   "mimetype": "text/x-python",
   "name": "python",
   "nbconvert_exporter": "python",
   "pygments_lexer": "ipython3",
   "version": "3.8.8"
  }
 },
 "nbformat": 4,
 "nbformat_minor": 5
}
